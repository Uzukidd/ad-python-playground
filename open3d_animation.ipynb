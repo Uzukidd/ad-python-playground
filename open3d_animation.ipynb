{
 "cells": [
  {
   "cell_type": "code",
   "execution_count": 1,
   "metadata": {},
   "outputs": [
    {
     "name": "stdout",
     "output_type": "stream",
     "text": [
      "Jupyter environment detected. Enabling Open3D WebVisualizer.\n",
      "[Open3D INFO] WebRTC GUI backend enabled.\n",
      "[Open3D INFO] WebRTCWindowSystem: HTTP handshake server disabled.\n"
     ]
    }
   ],
   "source": [
    "import open3d as o3d\n",
    "import time\n",
    "import numpy as np"
   ]
  },
  {
   "cell_type": "code",
   "execution_count": 2,
   "metadata": {},
   "outputs": [
    {
     "name": "stdout",
     "output_type": "stream",
     "text": [
      "xyz\n",
      "[[-3.         -3.          0.17846472]\n",
      " [-2.985      -3.          0.17440115]\n",
      " [-2.97       -3.          0.17063709]\n",
      " ...\n",
      " [ 2.97        3.          0.17063709]\n",
      " [ 2.985       3.          0.17440115]\n",
      " [ 3.          3.          0.17846472]]\n",
      "xyz_load\n",
      "[[-3.         -3.          0.17846472]\n",
      " [-2.985      -3.          0.17440115]\n",
      " [-2.97       -3.          0.17063709]\n",
      " ...\n",
      " [ 2.97        3.          0.17063709]\n",
      " [ 2.985       3.          0.17440115]\n",
      " [ 3.          3.          0.17846472]]\n"
     ]
    }
   ],
   "source": [
    "x = np.linspace(-3, 3, 401)\n",
    "mesh_x, mesh_y = np.meshgrid(x, x)\n",
    "z = np.sinc((np.power(mesh_x, 2) + np.power(mesh_y, 2)))\n",
    "z_norm = (z - z.min()) / (z.max() - z.min())\n",
    "xyz = np.zeros((np.size(mesh_x), 3))\n",
    "xyz[:, 0] = np.reshape(mesh_x, -1)\n",
    "xyz[:, 1] = np.reshape(mesh_y, -1)\n",
    "xyz[:, 2] = np.reshape(z_norm, -1)\n",
    "print('xyz')\n",
    "print(xyz)\n",
    "\n",
    "# Pass xyz to Open3D.o3d.geometry.PointCloud and visualize\n",
    "pcd = o3d.geometry.PointCloud()\n",
    "pcd.points = o3d.utility.Vector3dVector(xyz)\n",
    "o3d.io.write_point_cloud(\"./sync.ply\", pcd)\n",
    "\n",
    "# Load saved point cloud and visualize it\n",
    "pcd_load = o3d.io.read_point_cloud(\"./sync.ply\")\n",
    "o3d.visualization.draw_geometries([pcd_load])\n",
    "\n",
    "# convert Open3D.o3d.geometry.PointCloud to numpy array\n",
    "xyz_load = np.asarray(pcd_load.points)\n",
    "print('xyz_load')\n",
    "print(xyz_load)\n",
    "\n",
    "# save z_norm as an image (change [0,1] range to [0,255] range with uint8 type)\n",
    "img = o3d.geometry.Image((z_norm * 255).astype(np.uint8))\n",
    "o3d.io.write_image(\"./sync.png\", img)\n",
    "o3d.visualization.draw_geometries([img])"
   ]
  },
  {
   "cell_type": "code",
   "execution_count": 2,
   "metadata": {},
   "outputs": [],
   "source": [
    "vis = o3d.visualization.Visualizer()\n",
    "vis.create_window()\n",
    "\n",
    "# geometry is the point cloud used in your animaiton\n",
    "geometry = o3d.geometry.PointCloud()\n",
    "geometry.points = o3d.utility.Vector3dVector(np.random.randn(1000, 3))\n",
    "vis.add_geometry(geometry)\n",
    "# vis.add_geometry(geometry)\n",
    "# print(\"draw\")\n",
    "\n",
    "# for i in range(10):\n",
    "    # now modify the points of your geometry\n",
    "    # you can use whatever method suits you best, this is just an examp\n",
    "\n",
    "\n",
    "# vis.update_geometry(geometry)\n",
    "vis.poll_events()\n",
    "vis.update_renderer()\n",
    "    # time.sleep(1.0)\n",
    "    \n"
   ]
  },
  {
   "cell_type": "code",
   "execution_count": 3,
   "metadata": {},
   "outputs": [
    {
     "ename": "KeyboardInterrupt",
     "evalue": "",
     "output_type": "error",
     "traceback": [
      "\u001b[1;31m---------------------------------------------------------------------------\u001b[0m",
      "\u001b[1;31mKeyboardInterrupt\u001b[0m                         Traceback (most recent call last)",
      "Cell \u001b[1;32mIn[3], line 37\u001b[0m\n\u001b[0;32m     35\u001b[0m vis\u001b[39m.\u001b[39mupdate_geometry(sphere1)\n\u001b[0;32m     36\u001b[0m vis\u001b[39m.\u001b[39mpoll_events()\n\u001b[1;32m---> 37\u001b[0m vis\u001b[39m.\u001b[39;49mupdate_renderer()\n",
      "\u001b[1;31mKeyboardInterrupt\u001b[0m: "
     ]
    },
    {
     "ename": "",
     "evalue": "",
     "output_type": "error",
     "traceback": [
      "\u001b[1;31mThe Kernel crashed while executing code in the the current cell or a previous cell. Please review the code in the cell(s) to identify a possible cause of the failure. Click <a href='https://aka.ms/vscodeJupyterKernelCrash'>here</a> for more info. View Jupyter <a href='command:jupyter.viewOutput'>log</a> for further details."
     ]
    }
   ],
   "source": [
    "import open3d as o3d\n",
    "import numpy as np\n",
    "\n",
    "def create_transform_matrix_from_z(z):\n",
    "    \"\"\" Return transform 4x4 transformation matrix given a Z value \"\"\"\n",
    "    result = np.identity(4)\n",
    "    result[2,3] = z # Change the z\n",
    "    \n",
    "    return result\n",
    "\n",
    "# Create Open3d visualization window\n",
    "vis = o3d.visualization.Visualizer()\n",
    "vis.create_window()\n",
    "\n",
    "# create sphere geometry\n",
    "sphere1 = o3d.geometry.TriangleMesh.create_sphere()\n",
    "vis.add_geometry(sphere1)\n",
    "\n",
    "# create coordinate frame\n",
    "coordinate_frame = o3d.geometry.TriangleMesh.create_coordinate_frame()\n",
    "vis.add_geometry(coordinate_frame)\n",
    "\n",
    "prev_tf = None\n",
    "for curr_z in np.arange(0.5, 15.0, 0.005):\n",
    "    # return sphere1 to original position (0,0,0)\n",
    "    if prev_tf is not None:\n",
    "        sphere1.transform(np.linalg.inv(prev_tf))\n",
    "\n",
    "    # transform bazed on curr_z tf\n",
    "    curr_tf = create_transform_matrix_from_z(curr_z)\n",
    "    sphere1.transform(curr_tf)\n",
    "\n",
    "    prev_tf = curr_tf\n",
    "\n",
    "    vis.update_geometry(sphere1)\n",
    "    vis.poll_events()\n",
    "    vis.update_renderer()"
   ]
  }
 ],
 "metadata": {
  "kernelspec": {
   "display_name": "env_beampy_base",
   "language": "python",
   "name": "python3"
  },
  "language_info": {
   "codemirror_mode": {
    "name": "ipython",
    "version": 3
   },
   "file_extension": ".py",
   "mimetype": "text/x-python",
   "name": "python",
   "nbconvert_exporter": "python",
   "pygments_lexer": "ipython3",
   "version": "3.10.0"
  },
  "orig_nbformat": 4
 },
 "nbformat": 4,
 "nbformat_minor": 2
}
