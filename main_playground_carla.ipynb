{
 "cells": [
  {
   "cell_type": "code",
   "execution_count": 1,
   "metadata": {},
   "outputs": [
    {
     "name": "stdout",
     "output_type": "stream",
     "text": [
      "Jupyter environment detected. Enabling Open3D WebVisualizer.\n",
      "[Open3D INFO] WebRTC GUI backend enabled.\n",
      "[Open3D INFO] WebRTCWindowSystem: HTTP handshake server disabled.\n"
     ]
    }
   ],
   "source": [
    "from utils import *\n",
    "import carla\n",
    "from detectors import torch_script_module\n",
    "from carla_control import carla_client\n",
    "from utils.mods.post_processing import mono_label_distance_tracker, multi_classes_assemble_tracker\n",
    "import numpy as np\n",
    "import open3d as o3d\n",
    "import torch\n",
    "import time\n",
    "\n",
    "from IPython.display import clear_output, display"
   ]
  },
  {
   "cell_type": "code",
   "execution_count": 2,
   "metadata": {},
   "outputs": [],
   "source": [
    "logger = create_logger()"
   ]
  },
  {
   "cell_type": "code",
   "execution_count": 3,
   "metadata": {},
   "outputs": [],
   "source": [
    "# client = carla_client(host = \"192.168.31.13\")\n",
    "client = carla_client()"
   ]
  },
  {
   "cell_type": "code",
   "execution_count": 4,
   "metadata": {},
   "outputs": [],
   "source": [
    "client.init_client()\n",
    "client.start_client()"
   ]
  },
  {
   "cell_type": "code",
   "execution_count": 5,
   "metadata": {},
   "outputs": [
    {
     "name": "stdout",
     "output_type": "stream",
     "text": [
      "{'ROOT_DIR': WindowsPath('D:/Python_project/beamng_python_experiment'), 'LOCAL_RANK': 0, 'CLASS_NAMES': ['Car', 'Pedestrian', 'Cyclist'], 'DATA_CONFIG': {'POINT_CLOUD_RANGE': [0, -39.68, -3, 69.12, 39.68, 1], 'POINT_FEATURE_ENCODING': {'encoding_type': 'absolute_coordinates_encoding', 'used_feature_list': ['x', 'y', 'z', 'intensity'], 'src_feature_list': ['x', 'y', 'z', 'intensity']}, 'DATA_PROCESSOR': [{'NAME': 'utils.mods.pre_pocessing.robo3d.simulate_fog', 'EXT_MODULE': True, 'GAIN': False, 'INTE_NAME': 'integral_lookup_tables_seg_light_0.008beta', 'NOISE': 10, 'BETA': 0.2, 'NOISE_VARIANT': 'V1'}, {'NAME': 'transform_points_to_voxels', 'VOXEL_SIZE': [0.16, 0.16, 4], 'MAX_POINTS_PER_VOXEL': 32, 'MAX_NUMBER_OF_VOXELS': {'train': 16000, 'test': 40000}}]}, 'MODEL': {'NAME': 'PointPillar', 'POST_PROCESSING': {'RECALL_THRESH_LIST': [0.3, 0.5, 0.7], 'SCORE_THRESH': 0.1, 'OUTPUT_RAW_SCORE': False, 'EVAL_METRIC': 'kitti', 'NMS_CONFIG': {'MULTI_CLASSES_NMS': False, 'NMS_TYPE': 'nms_gpu', 'NMS_THRESH': 0.01, 'NMS_PRE_MAXSIZE': 4096, 'NMS_POST_MAXSIZE': 500}}}, 'OPTIMIZATION': {'BATCH_SIZE_PER_GPU': 4, 'NUM_EPOCHS': 80, 'OPTIMIZER': 'adam_onecycle', 'LR': 0.003, 'WEIGHT_DECAY': 0.01, 'MOMENTUM': 0.9, 'MOMS': [0.95, 0.85], 'PCT_START': 0.4, 'DIV_FACTOR': 10, 'DECAY_STEP_LIST': [35, 45], 'LR_DECAY': 0.1, 'LR_CLIP': 1e-07, 'LR_WARMUP': False, 'WARMUP_EPOCH': 1, 'GRAD_NORM_CLIP': 10}}\n"
     ]
    }
   ],
   "source": [
    "client.debug_luanch_test()\n",
    "\n",
    "CFG_FILE = \".\\\\configs\\\\kitti_prepocessing.yaml\"\n",
    "cfg = cfg_from_yaml_file(CFG_FILE, cfg)\n",
    "\n",
    "pcs_dataset = carla_point_cloud_dataset(dataset_cfg = cfg.DATA_CONFIG, logger=logger, lidar=client.lidar_t, class_names=cfg.CLASS_NAMES)\n",
    "object_tracker = multi_classes_assemble_tracker(num_classes=4, track_length=25, multi_head=True)\n",
    "# model = torch_script_module(path=\"./torch_scripts/point_pillar_model.pt\")\n",
    "# model.load_model()\n",
    "model = torch.jit.load(\"./torch_scripts/point_pillar_model.pt\")\n",
    "model.cuda()\n",
    "model.eval()\n",
    "print(cfg)"
   ]
  },
  {
   "cell_type": "code",
   "execution_count": 6,
   "metadata": {},
   "outputs": [],
   "source": [
    "def carla_ticking(idx, data_dict): \n",
    "    before_time = time.perf_counter()\n",
    "    \n",
    "    client.carla_world.tick()\n",
    "    spectator = client.carla_world.get_spectator()\n",
    "    transform = client.vehicle.get_transform()\n",
    "    spectator.set_transform(carla.Transform(transform.location + carla.Location(z=30),\n",
    "                                                carla.Rotation(pitch=-90)))\n",
    "    after_time = time.perf_counter()\n",
    "    return after_time - before_time, None\n",
    "    \n",
    "def model_forwarding(idx, data_dict):\n",
    "    final_boxes, final_scores, final_labels = None, None, None\n",
    "    before_time = time.perf_counter()\n",
    "    if data_dict[\"points\"] is not None:\n",
    "        data_dict = pcs_dataset.collate_batch([data_dict])\n",
    "        load_data_to_gpu(data_dict)\n",
    "\n",
    "        pred_dicts, _ = model.forward(data_dict)\n",
    "        \n",
    "        cls_preds = pred_dicts[\"pred_scores\"]\n",
    "        box_preds = pred_dicts[\"pred_boxes\"]\n",
    "        label_preds = pred_dicts[\"pred_labels\"]\n",
    "\n",
    "        selected, selected_scores = class_agnostic_nms(\n",
    "                            box_scores=cls_preds, box_preds=box_preds,\n",
    "                            score_thresh=0.4\n",
    "                        )\n",
    "\n",
    "        final_scores = selected_scores\n",
    "        final_labels = label_preds[selected]\n",
    "        final_boxes = box_preds[selected]\n",
    "    after_time = time.perf_counter()\n",
    "    return after_time - before_time, data_dict, final_boxes, final_scores, final_labels\n",
    "\n",
    "def scene_rendering(idx, data_dict, vis, final_boxes, final_scores, final_labels):\n",
    "    before_time = time.perf_counter()\n",
    "    if data_dict[\"points\"] is not None:\n",
    "        draw_scenes(vis,\n",
    "                    points=data_dict['points'][:, 1:], ref_boxes=final_boxes,\n",
    "                    ref_scores=final_scores, ref_labels=final_labels, confidence=None\n",
    "                )\n",
    "\n",
    "    vis.poll_events()\n",
    "    vis.update_renderer()\n",
    "    vis.clear_geometries()\n",
    "    after_time = time.perf_counter()\n",
    "    return after_time - before_time, None"
   ]
  },
  {
   "cell_type": "code",
   "execution_count": 7,
   "metadata": {},
   "outputs": [
    {
     "name": "stderr",
     "output_type": "stream",
     "text": [
      "2023-10-05 11:45:19,480   INFO  Compute time: 0.462 + 0.043 + 0.033 + 0.000 == 0.538s\n",
      "2023-10-05 11:45:19,480   INFO  Target amount: 12\n",
      "2023-10-05 11:45:19,480   INFO  current uuid:[0, 0, 0, 0]\n"
     ]
    }
   ],
   "source": [
    "vis = o3d.visualization.Visualizer()\n",
    "vis.create_window()\n",
    "\n",
    "with torch.no_grad():\n",
    "    for idx, data_dict in enumerate(pcs_dataset):\n",
    "\n",
    "        pre_time = data_dict[\"pre_time\"]\n",
    "        \n",
    "        ticking_time, _ = carla_ticking(idx, data_dict)\n",
    "        \n",
    "        if data_dict[\"points\"] is not None:\n",
    "        \n",
    "            forward_time, data_dict, final_boxes, final_scores, final_labels = model_forwarding(idx, data_dict)\n",
    "\n",
    "            render_time, _ = scene_rendering(idx, data_dict, vis, final_boxes, final_scores, final_labels)\n",
    "            \n",
    "            render_time = time.perf_counter()\n",
    "            \n",
    "            # if final_boxes is not None:\n",
    "            #     object_tracker.updates_object(final_boxes[np.newaxis, :, :], final_labels[np.newaxis, :], final_scores[np.newaxis, :])\n",
    "\n",
    "            # bounding_boxes, box_scores, box_labels, tracks = object_tracker.get_all_object()\n",
    "\n",
    "            # draw_scenes(vis,\n",
    "            #     points=data_dict['points'][:, 1:], ref_boxes=bounding_boxes,\n",
    "            #     ref_scores=box_scores, ref_labels=box_labels, confidence=None, tracks=tracks\n",
    "            # )\n",
    "            # draw_scenes(vis,\n",
    "            #     points=data_dict['points'][:, 1:], ref_boxes=None,\n",
    "            #     ref_scores=None, ref_labels=None, confidence=None, tracks=None\n",
    "            # )\n",
    "            # vis.poll_events()\n",
    "            # vis.update_renderer()\n",
    "            # vis.clear_geometries()\n",
    "            \n",
    "            render_time = time.perf_counter() - render_time\n",
    "        \n",
    "            clear_output(wait=True)\n",
    "            logger.info(f\"Compute time: {pre_time:.3f} + {ticking_time:.3f} + {forward_time:.3f} + {render_time:.3f} == {pre_time + ticking_time + forward_time + render_time:.3f}s\")\n",
    "            logger.info(f\"Target amount: {len(final_boxes if (final_boxes is not None) else [])}\")\n",
    "            logger.info(f\"current uuid:{object_tracker.get_last_uuid()}\")\n",
    "            \n"
   ]
  },
  {
   "attachments": {},
   "cell_type": "markdown",
   "metadata": {},
   "source": [
    "(124788, 4)\n",
    "(57300, 4)"
   ]
  },
  {
   "attachments": {},
   "cell_type": "markdown",
   "metadata": {},
   "source": [
    "{\n",
    "\t\"class_name\" : \"ViewTrajectory\",\n",
    "\t\"interval\" : 29,\n",
    "\t\"is_loop\" : false,\n",
    "\t\"trajectory\" : \n",
    "\t[\n",
    "\t\t{\n",
    "\t\t\t\"boundingbox_max\" : [ 69.118263244628906, 39.679920196533203, 16.415634155273438 ],\n",
    "\t\t\t\"boundingbox_min\" : [ -0.059999999999999998, -39.679874420166016, -6.9146575927734375 ],\n",
    "\t\t\t\"field_of_view\" : 60.0,\n",
    "\t\t\t\"front\" : [ -0.90307097537632919, 0.0017988087570628851, 0.42948757574567964 ],\n",
    "\t\t\t\"lookat\" : [ 34.529131622314452, 2.288818359375e-05, 4.75048828125 ],\n",
    "\t\t\t\"up\" : [ 0.42948904059539766, 0.0070563614983622357, 0.90304450154510629 ],\n",
    "\t\t\t\"zoom\" : 0.69999999999999996\n",
    "\t\t}\n",
    "\t],\n",
    "\t\"version_major\" : 1,\n",
    "\t\"version_minor\" : 0\n",
    "}"
   ]
  }
 ],
 "metadata": {
  "kernelspec": {
   "display_name": "env_beampy_base",
   "language": "python",
   "name": "python3"
  },
  "language_info": {
   "codemirror_mode": {
    "name": "ipython",
    "version": 3
   },
   "file_extension": ".py",
   "mimetype": "text/x-python",
   "name": "python",
   "nbconvert_exporter": "python",
   "pygments_lexer": "ipython3",
   "version": "3.8.0"
  },
  "orig_nbformat": 4
 },
 "nbformat": 4,
 "nbformat_minor": 2
}
