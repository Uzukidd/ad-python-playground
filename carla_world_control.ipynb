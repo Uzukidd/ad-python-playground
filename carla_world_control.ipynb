{
 "cells": [
  {
   "cell_type": "code",
   "execution_count": 3,
   "metadata": {},
   "outputs": [],
   "source": [
    "CARLA_PATH = \"\\\"F:\\\\Carla 0.9.13\\\\CarlaUE4.exe\\\"\"\n",
    "PORT = 2000\n",
    "\n",
    "import time\n",
    "!START \"\" {CARLA_PATH} -carla-port={PORT}\n",
    "time.sleep(20)"
   ]
  },
  {
   "cell_type": "code",
   "execution_count": 4,
   "metadata": {},
   "outputs": [],
   "source": [
    "VEHICLE_COUNT = 100\n",
    "PED_COUNT = 50\n",
    "TRRAFIC_GEN_PATH = \"\\\"F:\\\\Carla 0.9.13\\\\PythonAPI\\\\examples\\\\generate_traffic.py\\\"\"\n",
    "\n",
    "!python {TRRAFIC_GEN_PATH} -n {VEHICLE_COUNT} -w {PED_COUNT}"
   ]
  },
  {
   "cell_type": "code",
   "execution_count": null,
   "metadata": {},
   "outputs": [],
   "source": []
  }
 ],
 "metadata": {
  "kernelspec": {
   "display_name": "env_carla0913_torch",
   "language": "python",
   "name": "python3"
  },
  "language_info": {
   "codemirror_mode": {
    "name": "ipython",
    "version": 3
   },
   "file_extension": ".py",
   "mimetype": "text/x-python",
   "name": "python",
   "nbconvert_exporter": "python",
   "pygments_lexer": "ipython3",
   "version": "3.8.0"
  },
  "orig_nbformat": 4
 },
 "nbformat": 4,
 "nbformat_minor": 2
}
