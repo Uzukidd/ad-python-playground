{
 "cells": [
  {
   "cell_type": "code",
   "execution_count": 1,
   "metadata": {},
   "outputs": [],
   "source": [
    "CARLA_PATH = \"\\\"F:\\\\Carla 0.9.13\\\\CarlaUE4.exe\\\"\"\n",
    "PORT = 2000\n",
    "\n",
    "import time\n",
    "!START \"\" {CARLA_PATH} -carla-port={PORT}\n",
    "time.sleep(20)"
   ]
  },
  {
   "cell_type": "code",
   "execution_count": 2,
   "metadata": {},
   "outputs": [
    {
     "name": "stdout",
     "output_type": "stream",
     "text": [
      "INFO:  Found the required file in cache!  Carla/Maps/Nav/Town10HD_Opt.bin \n",
      "INFO:  streaming client: connection failed: ����Ŀ�����������ܾ����޷����ӡ� \n",
      "INFO:  streaming client: connection failed: ����Ŀ�����������ܾ����޷����ӡ� \n",
      "\n",
      "destroying 99 vehicles\n",
      "\n",
      "destroying 39 walkers\n",
      "\n",
      "done.\n"
     ]
    },
    {
     "name": "stderr",
     "output_type": "stream",
     "text": [
      "ERROR: Spawn failed because of collision at spawn position\n",
      "ERROR: Spawn failed because of collision at spawn position\n",
      "ERROR: Spawn failed because of collision at spawn position\n",
      "ERROR: Spawn failed because of collision at spawn position\n",
      "ERROR: Spawn failed because of collision at spawn position\n",
      "ERROR: Spawn failed because of collision at spawn position\n",
      "ERROR: Spawn failed because of collision at spawn position\n",
      "ERROR: Spawn failed because of collision at spawn position\n",
      "ERROR: Spawn failed because of collision at spawn position\n",
      "ERROR: Spawn failed because of collision at spawn position\n",
      "ERROR: Spawn failed because of collision at spawn position\n",
      "ERROR: Spawn failed because of collision at spawn position\n",
      "Traceback (most recent call last):\n",
      "  File \"F:\\Carla 0.9.13\\PythonAPI\\examples\\generate_traffic.py\", line 377, in <module>\n",
      "    main()\n",
      "  File \"F:\\Carla 0.9.13\\PythonAPI\\examples\\generate_traffic.py\", line 327, in main\n",
      "    world.wait_for_tick()\n",
      "RuntimeError: time-out of 10000ms while waiting for the simulator, make sure the simulator is ready and connected to 127.0.0.1:2000\n"
     ]
    }
   ],
   "source": [
    "VEHICLE_COUNT = 100\n",
    "PED_COUNT = 50\n",
    "TRRAFIC_GEN_PATH = \"\\\"F:\\\\Carla 0.9.13\\\\PythonAPI\\\\examples\\\\generate_traffic.py\\\"\"\n",
    "\n",
    "!python {TRRAFIC_GEN_PATH} -n {VEHICLE_COUNT} -w {PED_COUNT}"
   ]
  },
  {
   "cell_type": "code",
   "execution_count": null,
   "metadata": {},
   "outputs": [],
   "source": []
  }
 ],
 "metadata": {
  "kernelspec": {
   "display_name": "env_carla0913_torch",
   "language": "python",
   "name": "python3"
  },
  "language_info": {
   "codemirror_mode": {
    "name": "ipython",
    "version": 3
   },
   "file_extension": ".py",
   "mimetype": "text/x-python",
   "name": "python",
   "nbconvert_exporter": "python",
   "pygments_lexer": "ipython3",
   "version": "3.8.0"
  },
  "orig_nbformat": 4
 },
 "nbformat": 4,
 "nbformat_minor": 2
}
