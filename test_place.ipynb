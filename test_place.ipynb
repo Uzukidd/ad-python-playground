{
 "cells": [
  {
   "cell_type": "code",
   "execution_count": 1,
   "metadata": {},
   "outputs": [
    {
     "name": "stdout",
     "output_type": "stream",
     "text": [
      "[]\n"
     ]
    }
   ],
   "source": [
    "from beamngpy import BeamNGpy, Scenario, Vehicle\n",
    "\n",
    "wcu = Scenario('west_coast_usa', 'tag')\n",
    "\n",
    "print(wcu.checkpoints)\n"
   ]
  }
 ],
 "metadata": {
  "kernelspec": {
   "display_name": "env_openpcdet_beamngpy",
   "language": "python",
   "name": "python3"
  },
  "language_info": {
   "codemirror_mode": {
    "name": "ipython",
    "version": 3
   },
   "file_extension": ".py",
   "mimetype": "text/x-python",
   "name": "python",
   "nbconvert_exporter": "python",
   "pygments_lexer": "ipython3",
   "version": "3.10.11"
  },
  "orig_nbformat": 4
 },
 "nbformat": 4,
 "nbformat_minor": 2
}
