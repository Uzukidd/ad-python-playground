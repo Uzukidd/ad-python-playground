{
 "cells": [
  {
   "cell_type": "code",
   "execution_count": 1,
   "metadata": {},
   "outputs": [],
   "source": [
    "import numpy as np\n",
    "from mayavi import mlab"
   ]
  },
  {
   "cell_type": "code",
   "execution_count": 2,
   "metadata": {},
   "outputs": [
    {
     "name": "stdout",
     "output_type": "stream",
     "text": [
      "beamng pcs:(161099, 4)\n",
      "carla_pcs pcs:(163649, 4)\n"
     ]
    }
   ],
   "source": [
    "BEAMNG_PCS_PATH = \".np_cache\\\\beamng_pcs.bin\"\n",
    "beamng_pcs = np.fromfile(BEAMNG_PCS_PATH, dtype=np.float32).reshape(-1, 4)\n",
    "print(f\"beamng pcs:{beamng_pcs.shape}\")\n",
    "\n",
    "CARLA_PCS_PATH = \".np_cache\\\\carla_pcs.bin\"\n",
    "carla_pcs = np.fromfile(CARLA_PCS_PATH, dtype=np.float32).reshape(-1, 4)\n",
    "print(f\"carla_pcs pcs:{carla_pcs.shape}\")"
   ]
  },
  {
   "cell_type": "code",
   "execution_count": 3,
   "metadata": {},
   "outputs": [],
   "source": [
    "mlab.points3d(beamng_pcs[:, 0], beamng_pcs[:, 1], beamng_pcs[:, 2], beamng_pcs[:, 3], mode='point')\n",
    "mlab.points3d(carla_pcs[:, 0], carla_pcs[:, 1], carla_pcs[:, 2], carla_pcs[:, 3], mode='point')\n",
    "mlab.show(stop=True)"
   ]
  }
 ],
 "metadata": {
  "kernelspec": {
   "display_name": "env_openpcdet_test_cu118",
   "language": "python",
   "name": "python3"
  },
  "language_info": {
   "codemirror_mode": {
    "name": "ipython",
    "version": 3
   },
   "file_extension": ".py",
   "mimetype": "text/x-python",
   "name": "python",
   "nbconvert_exporter": "python",
   "pygments_lexer": "ipython3",
   "version": "3.10.11"
  },
  "orig_nbformat": 4
 },
 "nbformat": 4,
 "nbformat_minor": 2
}
