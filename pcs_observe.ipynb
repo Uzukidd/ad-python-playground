{
 "cells": [
  {
   "cell_type": "code",
   "execution_count": null,
   "metadata": {},
   "outputs": [],
   "source": [
    "import numpy as np\n",
    "from mayavi import mlab"
   ]
  },
  {
   "cell_type": "code",
   "execution_count": null,
   "metadata": {},
   "outputs": [],
   "source": [
    "BEAMNG_PCS_PATH = \".np_cache\\\\beamng_pcs.bin\"\n",
    "beamng_pcs = np.fromfile(BEAMNG_PCS_PATH, dtype=np.float32).reshape(-1, 4)\n",
    "print(f\"beamng pcs:{beamng_pcs.shape}\")\n",
    "\n",
    "CARLA_PCS_PATH = \".np_cache\\\\carla_pcs.bin\"\n",
    "carla_pcs = np.fromfile(CARLA_PCS_PATH, dtype=np.float32).reshape(-1, 4)\n",
    "print(f\"carla_pcs pcs:{carla_pcs.shape}\")"
   ]
  },
  {
   "cell_type": "code",
   "execution_count": null,
   "metadata": {},
   "outputs": [],
   "source": [
    "mlab.points3d(beamng_pcs[:, 0], beamng_pcs[:, 1], beamng_pcs[:, 2], beamng_pcs[:, 3], mode='point')\n",
    "mlab.points3d(carla_pcs[:, 0], carla_pcs[:, 1], carla_pcs[:, 2], carla_pcs[:, 3], mode='point')\n",
    "mlab.show(stop=True)"
   ]
  },
  {
   "cell_type": "code",
   "execution_count": 1,
   "metadata": {},
   "outputs": [],
   "source": [
    "from mayavi import mlab"
   ]
  },
  {
   "cell_type": "code",
   "execution_count": 2,
   "metadata": {},
   "outputs": [],
   "source": [
    "import numpy as np"
   ]
  },
  {
   "cell_type": "code",
   "execution_count": 3,
   "metadata": {},
   "outputs": [],
   "source": [
    "import threading\n",
    "\n",
    "# 创建一个随机点云\n",
    "n = 1000\n",
    "x = np.random.randn(n)\n",
    "y = np.random.randn(n)\n",
    "z = np.random.randn(n)\n",
    "c = np.random.rand(n)\n",
    "\n",
    "\n",
    "# 定义一个计算密集的函数，用于更新点云的数据\n",
    "def compute():\n",
    "    global x, y, z, c\n",
    "    while True:\n",
    "        mlab.clf()\n",
    "        # 更新点云的坐标和颜色\n",
    "        x += 0.1 * np.random.randn(n)\n",
    "        y += 0.1 * np.random.randn(n)\n",
    "        z += 0.1 * np.random.randn(n)\n",
    "        c = np.random.rand(n)\n",
    "        pts = mlab.points3d(x, y, z, c)\n",
    "        pts.mlab_source.set(x=x, y=y, z=z, scalars=c)\n",
    "        pts.mlab_source.set(x=x, y=y, z=z, scalars=c)\n",
    "        # mlab.clf()\n",
    "\n",
    "# 创建一个线程，运行计算密集的函数\n",
    "# t = threading.Thread(target=compute)\n",
    "# t.start()\n",
    "\n",
    "# 更新点云的坐标和颜色\n",
    "\n",
    "# 显示窗口\n",
    "# mlab.show()"
   ]
  },
  {
   "cell_type": "code",
   "execution_count": null,
   "metadata": {},
   "outputs": [],
   "source": [
    "# 创建一个线程，运行计算密集的函数\n",
    "t = threading.Thread(target=compute)\n",
    "# t.start()\n",
    "\n"
   ]
  },
  {
   "cell_type": "code",
   "execution_count": 4,
   "metadata": {},
   "outputs": [
    {
     "ename": "",
     "evalue": "",
     "output_type": "error",
     "traceback": [
      "\u001b[1;31mThe Kernel crashed while executing code in the the current cell or a previous cell. Please review the code in the cell(s) to identify a possible cause of the failure. Click <a href='https://aka.ms/vscodeJupyterKernelCrash'>here</a> for more info. View Jupyter <a href='command:jupyter.viewOutput'>log</a> for further details."
     ]
    }
   ],
   "source": [
    "# 更新点云的坐标和颜色\n",
    "\n",
    "# 显示窗口\n",
    "mlab.show(stop=True)"
   ]
  },
  {
   "cell_type": "code",
   "execution_count": 3,
   "metadata": {},
   "outputs": [
    {
     "name": "stdout",
     "output_type": "stream",
     "text": [
      "utils.mods.pre_pocessing.robo3d\n",
      "motion_blur\n"
     ]
    }
   ],
   "source": [
    "import importlib\n",
    "# from utils.mods.pre_pocessing.robo3d import motion_blur\n",
    "method_path = \"utils.mods.pre_pocessing.robo3d.motion_blur\"\n",
    "module_name, method_name = method_path.rsplit('.', 1)\n",
    "\n",
    "print(module_name)\n",
    "print(method_name)\n",
    "\n",
    "module = importlib.import_module(\"utils.mods.pre_pocessing.robo3d\")\n",
    "\n",
    "# 获取要调用的方法\n",
    "method_to_call = getattr(module, \"motion_blur\")"
   ]
  }
 ],
 "metadata": {
  "kernelspec": {
   "display_name": "env_openpcdet_test_cu118",
   "language": "python",
   "name": "python3"
  },
  "language_info": {
   "codemirror_mode": {
    "name": "ipython",
    "version": 3
   },
   "file_extension": ".py",
   "mimetype": "text/x-python",
   "name": "python",
   "nbconvert_exporter": "python",
   "pygments_lexer": "ipython3",
   "version": "3.8.0"
  },
  "orig_nbformat": 4
 },
 "nbformat": 4,
 "nbformat_minor": 2
}
