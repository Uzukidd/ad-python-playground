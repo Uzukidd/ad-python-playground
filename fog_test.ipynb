{
 "cells": [
  {
   "cell_type": "code",
   "execution_count": 2,
   "metadata": {},
   "outputs": [
    {
     "name": "stdout",
     "output_type": "stream",
     "text": [
      "{'ROOT_DIR': WindowsPath('D:/Python_project/beamng_python_experiment'), 'LOCAL_RANK': 0, 'CLASS_NAMES': ['Car', 'Pedestrian', 'Cyclist'], 'DATA_CONFIG': {'POINT_CLOUD_RANGE': [0, -39.68, -3, 69.12, 39.68, 1], 'POINT_FEATURE_ENCODING': {'encoding_type': 'absolute_coordinates_encoding', 'used_feature_list': ['x', 'y', 'z', 'intensity'], 'src_feature_list': ['x', 'y', 'z', 'intensity']}, 'PREVIEW_CHANNEL': ['ori', 'adv'], 'DATA_PROCESSOR': {'ori': [{'NAME': 'raw_data_remain'}], 'adv': [{'NAME': 'raw_data_remain'}, {'NAME': 'utils.mods.pre_pocessing.robo3d.cross_sensor_process', 'EXT_MODULE': True, 'NUM_BEAM_TO_DROP': 32}]}}, 'MODEL': {'NAME': 'PointPillar', 'POST_PROCESSING': {'RECALL_THRESH_LIST': [0.3, 0.5, 0.7], 'SCORE_THRESH': 0.1, 'OUTPUT_RAW_SCORE': False, 'EVAL_METRIC': 'kitti', 'NMS_CONFIG': {'MULTI_CLASSES_NMS': False, 'NMS_TYPE': 'nms_gpu', 'NMS_THRESH': 0.01, 'NMS_PRE_MAXSIZE': 4096, 'NMS_POST_MAXSIZE': 500}}}}\n",
      "ori\n",
      "functools.partial(<bound method point_cloud_dataset_base.raw_data_remain of <utils.dataset_tools.file_point_cloud_dataset object at 0x000001C8C532EDC0>>, config={'NAME': 'raw_data_remain'})\n",
      "adv\n",
      "functools.partial(<bound method point_cloud_dataset_base.raw_data_remain of <utils.dataset_tools.file_point_cloud_dataset object at 0x000001C8C532EDC0>>, config={'NAME': 'raw_data_remain'})\n",
      "functools.partial(<function cross_sensor_process at 0x000001C8C54ED040>, config={'NAME': 'utils.mods.pre_pocessing.robo3d.cross_sensor_process', 'EXT_MODULE': True, 'NUM_BEAM_TO_DROP': 32})\n"
     ]
    }
   ],
   "source": [
    "from utils import *\n",
    "from detectors import torch_script_module\n",
    "from carla_control import carla_client\n",
    "import numpy as np\n",
    "from mayavi import mlab\n",
    "import torch\n",
    "import time\n",
    "\n",
    "logger = create_logger()\n",
    "CFG_FILE = \".\\\\configs\\\\kitti_test_mono_file.yaml\"\n",
    "cfg = cfg_from_yaml_file(CFG_FILE, cfg)\n",
    "print(cfg)\n",
    "\n",
    "pcs_dataset = file_point_cloud_dataset(dataset_cfg = cfg.DATA_CONFIG, logger=logger, root_path=\".np_cache/000001.bin\", class_names=cfg.CLASS_NAMES)\n",
    "for i in pcs_dataset.data_processor_queue:\n",
    "    print(i)\n",
    "    for s in pcs_dataset.data_processor_queue[i]:\n",
    "        print(s)"
   ]
  },
  {
   "cell_type": "code",
   "execution_count": 3,
   "metadata": {},
   "outputs": [],
   "source": [
    "import open3d as o3d\n",
    "import threading\n",
    "from utils import *\n",
    "\n",
    "def fun(vis:o3d.cpu.pybind.visualization.Visualizer):\n",
    "    print(\"run\")\n",
    "    vis.run()\n",
    "    # vis.destroy_window()\n",
    "    \n",
    "with torch.no_grad():\n",
    "    data_dict = pcs_dataset[0]\n",
    "    # print(data_dict)\n",
    "    for channel_name, channel in data_dict.items():\n",
    "        data = data_dict[channel_name]\n",
    "        # print(data_dict)\n",
    "        vis = o3d.visualization.Visualizer()\n",
    "        vis.create_window(window_name=channel_name)\n",
    "        points = data[\"points\"]\n",
    "        draw_scenes(vis,\n",
    "                    points=points, ref_boxes=None,\n",
    "                    ref_scores=None, ref_labels=None, confidence=None\n",
    "                )\n",
    "        \n",
    "        thread = threading.Thread(target=lambda: fun(vis))\n",
    "        thread.start()\n",
    "        \n",
    "\n",
    "    # ori_pc = data_dict[\"raw_points\"]\n",
    "    # tran_pc = data_dict[\"points\"]\n",
    "    # print(ori_pc - tran_pc)\n",
    "    # print(data_dict[\"points\"].shape)\n",
    "    # print(data_dict[\"intensity\"].sum())\n",
    "    # mlab.points3d(ori_pc[:, 0], ori_pc[:, 1], ori_pc[:, 2], data_dict[\"intensity\"], mode='point', scale_factor=5)\n",
    "    # mlab.points3d(tran_pc[:, 0], tran_pc[:, 1], tran_pc[:, 2], tran_pc[:, 3], mode='point', scale_factor=5)\n",
    "\n",
    "    # # mlab.points3d(kitti_01_pcs[:, 0], kitti_01_pcs[:, 1], kitti_01_pcs[:, 2], kitti_01_pcs[:, 3], mode='point', scale_factor=5)\n",
    "    # mlab.show(stop=False)\n",
    "    # data_dict = pcs_dataset.collate_batch([data_dict])\n",
    "    # print(data_dict[\"points\"].shape)\n",
    "    # load_data_to_gpu(data_dict)\n",
    "    # print(data_dict[\"points\"].size())"
   ]
  }
 ],
 "metadata": {
  "kernelspec": {
   "display_name": "env_carla0913_torch",
   "language": "python",
   "name": "python3"
  },
  "language_info": {
   "codemirror_mode": {
    "name": "ipython",
    "version": 3
   },
   "file_extension": ".py",
   "mimetype": "text/x-python",
   "name": "python",
   "nbconvert_exporter": "python",
   "pygments_lexer": "ipython3",
   "version": "3.8.0"
  },
  "orig_nbformat": 4
 },
 "nbformat": 4,
 "nbformat_minor": 2
}
