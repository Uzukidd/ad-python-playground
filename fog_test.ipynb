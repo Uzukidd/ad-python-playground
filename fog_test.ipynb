{
 "cells": [
  {
   "cell_type": "code",
   "execution_count": 1,
   "metadata": {},
   "outputs": [
    {
     "name": "stdout",
     "output_type": "stream",
     "text": [
      "Jupyter environment detected. Enabling Open3D WebVisualizer.\n",
      "[Open3D INFO] WebRTC GUI backend enabled.\n",
      "[Open3D INFO] WebRTCWindowSystem: HTTP handshake server disabled.\n"
     ]
    }
   ],
   "source": [
    "from utils import *\n",
    "from detectors import torch_script_module\n",
    "from carla_control import carla_client\n",
    "import numpy as np\n",
    "from mayavi import mlab\n",
    "import torch\n",
    "import time\n",
    "\n",
    "logger = create_logger()\n",
    "CFG_FILE = \".\\\\configs\\\\kitti_test_mono_file.yaml\"\n",
    "cfg = cfg_from_yaml_file(CFG_FILE, cfg)\n",
    "\n",
    "pcs_dataset = file_point_cloud_dataset(dataset_cfg = cfg.DATA_CONFIG, logger=logger, root_path=\".np_cache/000001.bin\", class_names=cfg.CLASS_NAMES)"
   ]
  },
  {
   "cell_type": "code",
   "execution_count": 2,
   "metadata": {},
   "outputs": [
    {
     "name": "stdout",
     "output_type": "stream",
     "text": [
      "[[ 0.          0.          0.          0.        ]\n",
      " [ 0.          0.          0.          0.        ]\n",
      " [43.74512384 20.60830513  1.82544205 -0.37400769]\n",
      " ...\n",
      " [ 0.          0.          0.         -0.31999999]\n",
      " [ 0.          0.          0.         -0.28      ]\n",
      " [ 0.          0.          0.          0.        ]]\n",
      "(62512, 4)\n",
      "15590.989\n"
     ]
    }
   ],
   "source": [
    "with torch.no_grad():\n",
    "    data_dict = pcs_dataset[0]\n",
    "    ori_pc = data_dict[\"raw_points\"]\n",
    "    tran_pc = data_dict[\"points\"]\n",
    "    print(ori_pc - tran_pc)\n",
    "    print(data_dict[\"points\"].shape)\n",
    "    print(data_dict[\"intensity\"].sum())\n",
    "    mlab.points3d(ori_pc[:, 0], ori_pc[:, 1], ori_pc[:, 2], data_dict[\"intensity\"], mode='point', scale_factor=5)\n",
    "    mlab.points3d(tran_pc[:, 0], tran_pc[:, 1], tran_pc[:, 2], tran_pc[:, 3], mode='point', scale_factor=5)\n",
    "\n",
    "    # mlab.points3d(kitti_01_pcs[:, 0], kitti_01_pcs[:, 1], kitti_01_pcs[:, 2], kitti_01_pcs[:, 3], mode='point', scale_factor=5)\n",
    "    mlab.show(stop=False)\n",
    "    data_dict = pcs_dataset.collate_batch([data_dict])\n",
    "    print(data_dict[\"points\"].shape)\n",
    "    load_data_to_gpu(data_dict)\n",
    "    print(data_dict[\"points\"].size())"
   ]
  }
 ],
 "metadata": {
  "kernelspec": {
   "display_name": "env_carla0913_torch",
   "language": "python",
   "name": "python3"
  },
  "language_info": {
   "codemirror_mode": {
    "name": "ipython",
    "version": 3
   },
   "file_extension": ".py",
   "mimetype": "text/x-python",
   "name": "python",
   "nbconvert_exporter": "python",
   "pygments_lexer": "ipython3",
   "version": "3.8.0"
  },
  "orig_nbformat": 4
 },
 "nbformat": 4,
 "nbformat_minor": 2
}
