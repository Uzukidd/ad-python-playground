{
 "cells": [
  {
   "cell_type": "code",
   "execution_count": 1,
   "metadata": {},
   "outputs": [],
   "source": [
    "from mayavi import mlab"
   ]
  },
  {
   "cell_type": "code",
   "execution_count": 2,
   "metadata": {},
   "outputs": [],
   "source": [
    "import numpy as np"
   ]
  },
  {
   "cell_type": "code",
   "execution_count": 3,
   "metadata": {},
   "outputs": [],
   "source": [
    "from threading import Thread"
   ]
  },
  {
   "cell_type": "code",
   "execution_count": 4,
   "metadata": {},
   "outputs": [],
   "source": [
    "def update_plot():\n",
    "    while True:\n",
    "        # 生成新的数据\n",
    "        x, y, z = np.random.random((3, 100))\n",
    "        \n",
    "        # 清空场景并绘制新的数据\n",
    "        mlab.clf()\n",
    "        mlab.points3d(x, y, z, scale_factor=0.5)\n",
    "        \n",
    "        # 更新窗口并处理交互事件\n",
    "        mlab.draw()\n",
    "        mlab.process_ui_events()"
   ]
  },
  {
   "cell_type": "code",
   "execution_count": null,
   "metadata": {},
   "outputs": [],
   "source": [
    "plot_thread = Thread(target=update_plot)\n",
    "plot_thread.start()\n"
   ]
  },
  {
   "cell_type": "code",
   "execution_count": 5,
   "metadata": {},
   "outputs": [],
   "source": [
    "\n",
    "\n",
    "# 创建后台线程并启动实时绘图\n",
    "plot_thread = Thread(target=update_plot)\n",
    "plot_thread.start()\n",
    "\n",
    "# 在主线程中执行其他任务\n",
    "while True:\n",
    "    # 执行其他任务\n",
    "    print(\"Main thread is still running...\")"
   ]
  },
  {
   "cell_type": "markdown",
   "metadata": {},
   "source": []
  }
 ],
 "metadata": {
  "kernelspec": {
   "display_name": "env_openpcdet_base",
   "language": "python",
   "name": "python3"
  },
  "language_info": {
   "codemirror_mode": {
    "name": "ipython",
    "version": 3
   },
   "file_extension": ".py",
   "mimetype": "text/x-python",
   "name": "python",
   "nbconvert_exporter": "python",
   "pygments_lexer": "ipython3",
   "version": "3.8.16"
  },
  "orig_nbformat": 4
 },
 "nbformat": 4,
 "nbformat_minor": 2
}
