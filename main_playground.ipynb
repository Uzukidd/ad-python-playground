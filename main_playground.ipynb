{
 "cells": [
  {
   "cell_type": "code",
   "execution_count": 1,
   "metadata": {},
   "outputs": [
    {
     "name": "stderr",
     "output_type": "stream",
     "text": [
      "2023-06-12 10:42:09,003 |INFO     |beamngpy                      |Started BeamNGpy logging.\n"
     ]
    },
    {
     "name": "stdout",
     "output_type": "stream",
     "text": [
      "Jupyter environment detected. Enabling Open3D WebVisualizer.\n",
      "[Open3D INFO] WebRTC GUI backend enabled.\n",
      "[Open3D INFO] WebRTCWindowSystem: HTTP handshake server disabled.\n"
     ]
    }
   ],
   "source": [
    "from pcdet.config import cfg, cfg_from_yaml_file\n",
    "from pcdet.models import build_network, load_data_to_gpu\n",
    "from beamng_control import beamng_server, beamng_client\n",
    "from pcdet_tools import beamng_point_cloud_process_tools, draw_scenes\n",
    "from pcdet.utils import common_utils\n",
    "import open3d as o3d\n",
    "import numpy as np\n",
    "\n",
    "import time"
   ]
  },
  {
   "cell_type": "code",
   "execution_count": 2,
   "metadata": {},
   "outputs": [],
   "source": [
    "logger = common_utils.create_logger()"
   ]
  },
  {
   "cell_type": "code",
   "execution_count": 3,
   "metadata": {},
   "outputs": [],
   "source": [
    "server_a = beamng_server()\n",
    "client_b = beamng_client(logger=logger)"
   ]
  },
  {
   "cell_type": "code",
   "execution_count": 4,
   "metadata": {},
   "outputs": [
    {
     "name": "stderr",
     "output_type": "stream",
     "text": [
      "2023-06-12 10:42:11,412 |WARNING  |py.warnings                   |d:\\anaconda3\\envs\\env_openpcdet_beamngpy\\lib\\site-packages\\beamngpy\\connection\\connection.py:-1: ResourceWarning: unclosed <socket.socket fd=5788, family=AddressFamily.AF_INET, type=SocketKind.SOCK_STREAM, proto=0, laddr=('0.0.0.0', 11308)>\n",
      "\n",
      "2023-06-12 10:42:11,412 |WARNING  |py.warnings                   |d:\\anaconda3\\envs\\env_openpcdet_beamngpy\\lib\\site-packages\\beamngpy\\connection\\connection.py:-1: ResourceWarning: unclosed <socket.socket fd=5788, family=AddressFamily.AF_INET, type=SocketKind.SOCK_STREAM, proto=0, laddr=('0.0.0.0', 11308)>\n",
      "\n",
      "2023-06-12 10:42:11,415 |INFO     |beamngpy.BeamNGpy             |Opening BeamNGpy instance.\n",
      "2023-06-12 10:42:11,422 |INFO     |beamngpy.BeamNGpy             |Started BeamNG.\n",
      "2023-06-12 10:42:21,424 |INFO     |beamngpy.BeamNGpy             |Connecting to BeamNG.tech at: (127.0.0.1, 64256)\n",
      "2023-06-12 10:42:21,749 |INFO     |beamngpy.BeamNGpy             |Successfully connected to BeamNG.tech.\n",
      "2023-06-12 10:42:21,750 |INFO     |beamngpy.BeamNGpy             |BeamNGpy successfully connected to BeamNG.\n"
     ]
    }
   ],
   "source": [
    "server_a.init_server()\n",
    "server_a.launch_server()"
   ]
  },
  {
   "cell_type": "code",
   "execution_count": 5,
   "metadata": {},
   "outputs": [
    {
     "name": "stderr",
     "output_type": "stream",
     "text": [
      "2023-06-12 10:42:22,775 |INFO     |beamngpy.BeamNGpy             |Successfully connected to BeamNG.tech.\n",
      "2023-06-12 10:42:22,776 |INFO     |beamngpy.BeamNGpy             |BeamNGpy successfully connected to existing BeamNG instance.\n"
     ]
    }
   ],
   "source": [
    "client_b.init_client()\n",
    "client_b.launch_client()"
   ]
  },
  {
   "cell_type": "code",
   "execution_count": 6,
   "metadata": {},
   "outputs": [
    {
     "name": "stderr",
     "output_type": "stream",
     "text": [
      "2023-06-12 10:42:48,064 |INFO     |beamngpy.BeamNGpy             |Loaded map.\n",
      "2023-06-12 10:42:49,855 |INFO     |beamngpy.Vehicle              |Vehicle vehicleA connected to simulation.\n",
      "2023-06-12 10:42:49,855 |INFO     |beamngpy.BeamNGpy             |Attempting to connect to vehicle vehicleA\n",
      "2023-06-12 10:42:50,951 |INFO     |beamngpy.BeamNGpy             |Successfully connected to BeamNG.tech.\n",
      "2023-06-12 10:42:50,952 |INFO     |beamngpy.BeamNGpy             |Successfully connected to vehicle vehicleA.\n",
      "2023-06-12 10:42:50,954 |INFO     |beamngpy.Scenario             |Connected to scenario: tag\n",
      "2023-06-12 10:42:50,978 |INFO     |beamngpy.BeamNGpy             |Starting scenario.\n"
     ]
    }
   ],
   "source": [
    "server_a.debug_luanch_test()"
   ]
  },
  {
   "attachments": {},
   "cell_type": "markdown",
   "metadata": {},
   "source": [
    "{\n",
    "\t\"class_name\" : \"ViewTrajectory\",\n",
    "\t\"interval\" : 29,\n",
    "\t\"is_loop\" : false,\n",
    "\t\"trajectory\" : \n",
    "\t[\n",
    "\t\t{\n",
    "\t\t\t\"boundingbox_max\" : [ 69.118263244628906, 39.679920196533203, 16.415634155273438 ],\n",
    "\t\t\t\"boundingbox_min\" : [ -0.059999999999999998, -39.679874420166016, -6.9146575927734375 ],\n",
    "\t\t\t\"field_of_view\" : 60.0,\n",
    "\t\t\t\"front\" : [ -0.90307097537632919, 0.0017988087570628851, 0.42948757574567964 ],\n",
    "\t\t\t\"lookat\" : [ 34.529131622314452, 2.288818359375e-05, 4.75048828125 ],\n",
    "\t\t\t\"up\" : [ 0.42948904059539766, 0.0070563614983622357, 0.90304450154510629 ],\n",
    "\t\t\t\"zoom\" : 0.69999999999999996\n",
    "\t\t}\n",
    "\t],\n",
    "\t\"version_major\" : 1,\n",
    "\t\"version_minor\" : 0\n",
    "}"
   ]
  },
  {
   "cell_type": "code",
   "execution_count": 7,
   "metadata": {},
   "outputs": [
    {
     "name": "stderr",
     "output_type": "stream",
     "text": [
      "2023-06-12 10:42:50,984   INFO  -----------------Quick Demo of OpenPCDet-------------------------\n",
      "2023-06-12 10:42:51,172 |WARNING  |py.warnings                   |d:\\anaconda3\\envs\\env_openpcdet_beamngpy\\lib\\site-packages\\torch\\functional.py:504: UserWarning: torch.meshgrid: in an upcoming release, it will be required to pass the indexing argument. (Triggered internally at C:\\cb\\pytorch_1000000000000\\work\\aten\\src\\ATen\\native\\TensorShape.cpp:3484.)\n",
      "  return _VF.meshgrid(tensors, **kwargs)  # type: ignore[attr-defined]\n",
      "\n",
      "2023-06-12 10:42:51,172 |WARNING  |py.warnings                   |d:\\anaconda3\\envs\\env_openpcdet_beamngpy\\lib\\site-packages\\torch\\functional.py:504: UserWarning: torch.meshgrid: in an upcoming release, it will be required to pass the indexing argument. (Triggered internally at C:\\cb\\pytorch_1000000000000\\work\\aten\\src\\ATen\\native\\TensorShape.cpp:3484.)\n",
      "  return _VF.meshgrid(tensors, **kwargs)  # type: ignore[attr-defined]\n",
      "\n",
      "2023-06-12 10:42:51,277   INFO  ==> Loading parameters from checkpoint D:\\models_zoo\\pointpillar_7728.pth to CPU\n",
      "2023-06-12 10:42:51,306   INFO  ==> Done (loaded 127/127)\n"
     ]
    },
    {
     "data": {
      "text/plain": [
       "PointPillar(\n",
       "  (vfe): PillarVFE(\n",
       "    (pfn_layers): ModuleList(\n",
       "      (0): PFNLayer(\n",
       "        (linear): Linear(in_features=10, out_features=64, bias=False)\n",
       "        (norm): BatchNorm1d(64, eps=0.001, momentum=0.01, affine=True, track_running_stats=True)\n",
       "      )\n",
       "    )\n",
       "  )\n",
       "  (backbone_3d): None\n",
       "  (map_to_bev_module): PointPillarScatter()\n",
       "  (pfe): None\n",
       "  (backbone_2d): BaseBEVBackbone(\n",
       "    (blocks): ModuleList(\n",
       "      (0): Sequential(\n",
       "        (0): ZeroPad2d((1, 1, 1, 1))\n",
       "        (1): Conv2d(64, 64, kernel_size=(3, 3), stride=(2, 2), bias=False)\n",
       "        (2): BatchNorm2d(64, eps=0.001, momentum=0.01, affine=True, track_running_stats=True)\n",
       "        (3): ReLU()\n",
       "        (4): Conv2d(64, 64, kernel_size=(3, 3), stride=(1, 1), padding=(1, 1), bias=False)\n",
       "        (5): BatchNorm2d(64, eps=0.001, momentum=0.01, affine=True, track_running_stats=True)\n",
       "        (6): ReLU()\n",
       "        (7): Conv2d(64, 64, kernel_size=(3, 3), stride=(1, 1), padding=(1, 1), bias=False)\n",
       "        (8): BatchNorm2d(64, eps=0.001, momentum=0.01, affine=True, track_running_stats=True)\n",
       "        (9): ReLU()\n",
       "        (10): Conv2d(64, 64, kernel_size=(3, 3), stride=(1, 1), padding=(1, 1), bias=False)\n",
       "        (11): BatchNorm2d(64, eps=0.001, momentum=0.01, affine=True, track_running_stats=True)\n",
       "        (12): ReLU()\n",
       "      )\n",
       "      (1): Sequential(\n",
       "        (0): ZeroPad2d((1, 1, 1, 1))\n",
       "        (1): Conv2d(64, 128, kernel_size=(3, 3), stride=(2, 2), bias=False)\n",
       "        (2): BatchNorm2d(128, eps=0.001, momentum=0.01, affine=True, track_running_stats=True)\n",
       "        (3): ReLU()\n",
       "        (4): Conv2d(128, 128, kernel_size=(3, 3), stride=(1, 1), padding=(1, 1), bias=False)\n",
       "        (5): BatchNorm2d(128, eps=0.001, momentum=0.01, affine=True, track_running_stats=True)\n",
       "        (6): ReLU()\n",
       "        (7): Conv2d(128, 128, kernel_size=(3, 3), stride=(1, 1), padding=(1, 1), bias=False)\n",
       "        (8): BatchNorm2d(128, eps=0.001, momentum=0.01, affine=True, track_running_stats=True)\n",
       "        (9): ReLU()\n",
       "        (10): Conv2d(128, 128, kernel_size=(3, 3), stride=(1, 1), padding=(1, 1), bias=False)\n",
       "        (11): BatchNorm2d(128, eps=0.001, momentum=0.01, affine=True, track_running_stats=True)\n",
       "        (12): ReLU()\n",
       "        (13): Conv2d(128, 128, kernel_size=(3, 3), stride=(1, 1), padding=(1, 1), bias=False)\n",
       "        (14): BatchNorm2d(128, eps=0.001, momentum=0.01, affine=True, track_running_stats=True)\n",
       "        (15): ReLU()\n",
       "        (16): Conv2d(128, 128, kernel_size=(3, 3), stride=(1, 1), padding=(1, 1), bias=False)\n",
       "        (17): BatchNorm2d(128, eps=0.001, momentum=0.01, affine=True, track_running_stats=True)\n",
       "        (18): ReLU()\n",
       "      )\n",
       "      (2): Sequential(\n",
       "        (0): ZeroPad2d((1, 1, 1, 1))\n",
       "        (1): Conv2d(128, 256, kernel_size=(3, 3), stride=(2, 2), bias=False)\n",
       "        (2): BatchNorm2d(256, eps=0.001, momentum=0.01, affine=True, track_running_stats=True)\n",
       "        (3): ReLU()\n",
       "        (4): Conv2d(256, 256, kernel_size=(3, 3), stride=(1, 1), padding=(1, 1), bias=False)\n",
       "        (5): BatchNorm2d(256, eps=0.001, momentum=0.01, affine=True, track_running_stats=True)\n",
       "        (6): ReLU()\n",
       "        (7): Conv2d(256, 256, kernel_size=(3, 3), stride=(1, 1), padding=(1, 1), bias=False)\n",
       "        (8): BatchNorm2d(256, eps=0.001, momentum=0.01, affine=True, track_running_stats=True)\n",
       "        (9): ReLU()\n",
       "        (10): Conv2d(256, 256, kernel_size=(3, 3), stride=(1, 1), padding=(1, 1), bias=False)\n",
       "        (11): BatchNorm2d(256, eps=0.001, momentum=0.01, affine=True, track_running_stats=True)\n",
       "        (12): ReLU()\n",
       "        (13): Conv2d(256, 256, kernel_size=(3, 3), stride=(1, 1), padding=(1, 1), bias=False)\n",
       "        (14): BatchNorm2d(256, eps=0.001, momentum=0.01, affine=True, track_running_stats=True)\n",
       "        (15): ReLU()\n",
       "        (16): Conv2d(256, 256, kernel_size=(3, 3), stride=(1, 1), padding=(1, 1), bias=False)\n",
       "        (17): BatchNorm2d(256, eps=0.001, momentum=0.01, affine=True, track_running_stats=True)\n",
       "        (18): ReLU()\n",
       "      )\n",
       "    )\n",
       "    (deblocks): ModuleList(\n",
       "      (0): Sequential(\n",
       "        (0): ConvTranspose2d(64, 128, kernel_size=(1, 1), stride=(1, 1), bias=False)\n",
       "        (1): BatchNorm2d(128, eps=0.001, momentum=0.01, affine=True, track_running_stats=True)\n",
       "        (2): ReLU()\n",
       "      )\n",
       "      (1): Sequential(\n",
       "        (0): ConvTranspose2d(128, 128, kernel_size=(2, 2), stride=(2, 2), bias=False)\n",
       "        (1): BatchNorm2d(128, eps=0.001, momentum=0.01, affine=True, track_running_stats=True)\n",
       "        (2): ReLU()\n",
       "      )\n",
       "      (2): Sequential(\n",
       "        (0): ConvTranspose2d(256, 128, kernel_size=(4, 4), stride=(4, 4), bias=False)\n",
       "        (1): BatchNorm2d(128, eps=0.001, momentum=0.01, affine=True, track_running_stats=True)\n",
       "        (2): ReLU()\n",
       "      )\n",
       "    )\n",
       "  )\n",
       "  (dense_head): AnchorHeadSingle(\n",
       "    (cls_loss_func): SigmoidFocalClassificationLoss()\n",
       "    (reg_loss_func): WeightedSmoothL1Loss()\n",
       "    (dir_loss_func): WeightedCrossEntropyLoss()\n",
       "    (conv_cls): Conv2d(384, 18, kernel_size=(1, 1), stride=(1, 1))\n",
       "    (conv_box): Conv2d(384, 42, kernel_size=(1, 1), stride=(1, 1))\n",
       "    (conv_dir_cls): Conv2d(384, 12, kernel_size=(1, 1), stride=(1, 1))\n",
       "  )\n",
       "  (point_head): None\n",
       "  (roi_head): None\n",
       ")"
      ]
     },
     "execution_count": 7,
     "metadata": {},
     "output_type": "execute_result"
    }
   ],
   "source": [
    "CFG_FILE = \".\\\\cfgs\\\\kitti_models\\\\pointpillar.yaml\"\n",
    "CKPT_FILE = \"D:\\\\models_zoo\\\\pointpillar_7728.pth\"\n",
    "\n",
    "logger.info('-----------------Quick Demo of OpenPCDet-------------------------')\n",
    "cfg = cfg_from_yaml_file(CFG_FILE, cfg)\n",
    "\n",
    "process_data = beamng_point_cloud_process_tools(dataset_cfg = cfg.DATA_CONFIG, logger=logger, class_names=cfg.CLASS_NAMES)\n",
    "model = build_network(model_cfg=cfg.MODEL, num_class=len(cfg.CLASS_NAMES), dataset=process_data)\n",
    "model.load_params_from_file(filename=CKPT_FILE, logger=logger, to_cpu=True)\n",
    "model.cuda()\n",
    "model.eval()"
   ]
  },
  {
   "cell_type": "code",
   "execution_count": 8,
   "metadata": {},
   "outputs": [
    {
     "name": "stderr",
     "output_type": "stream",
     "text": [
      "2023-06-12 10:42:52,112 |INFO     |beamngpy.BeamNGpy             |Attempting to connect to vehicle vehicleA\n",
      "2023-06-12 10:42:52,132 |INFO     |beamngpy.BeamNGpy             |Successfully connected to BeamNG.tech.\n",
      "2023-06-12 10:42:52,133 |INFO     |beamngpy.BeamNGpy             |Successfully connected to vehicle vehicleA.\n",
      "2023-06-12 10:42:52,164 |INFO     |beamngpy.Lidar                |Opened lidar: \"lidar\"\n"
     ]
    },
    {
     "name": "stdout",
     "output_type": "stream",
     "text": [
      "tag\n",
      "{'vehicleA': <beamngpy.vehicle.vehicle.Vehicle object at 0x000001B2D3E66770>}\n"
     ]
    },
    {
     "name": "stderr",
     "output_type": "stream",
     "text": [
      "2023-06-12 10:42:52,828   INFO  FPS:1.50761344787851\n",
      "2023-06-12 10:42:54,510   INFO  FPS:0.5948366159455084\n",
      "2023-06-12 10:42:55,307   INFO  FPS:1.256041244242328\n",
      "2023-06-12 10:42:56,225   INFO  FPS:1.0906989231577557\n",
      "2023-06-12 10:42:56,941   INFO  FPS:1.396988511929881\n",
      "2023-06-12 10:42:57,874   INFO  FPS:1.0724175702096215\n",
      "2023-06-12 10:42:58,565   INFO  FPS:1.4490874011350716\n",
      "2023-06-12 10:42:59,141   INFO  FPS:1.7399235375117512\n",
      "2023-06-12 10:42:59,969   INFO  FPS:1.2083209328863647\n",
      "2023-06-12 10:43:00,594   INFO  FPS:1.6028854504487922\n"
     ]
    },
    {
     "name": "stdout",
     "output_type": "stream",
     "text": [
      "[Open3D WARNING] invalid color in PaintUniformColor, clipping to [0, 1]\n"
     ]
    },
    {
     "name": "stderr",
     "output_type": "stream",
     "text": [
      "2023-06-12 10:43:04,759   INFO  FPS:0.24012064429955612\n",
      "2023-06-12 10:43:08,577   INFO  FPS:0.2619054490949245\n",
      "2023-06-12 10:43:09,177   INFO  FPS:1.6704761875143346\n",
      "2023-06-12 10:43:09,756   INFO  FPS:1.7302112710903244\n"
     ]
    },
    {
     "name": "stdout",
     "output_type": "stream",
     "text": [
      "[Open3D WARNING] invalid color in PaintUniformColor, clipping to [0, 1]\n"
     ]
    },
    {
     "name": "stderr",
     "output_type": "stream",
     "text": [
      "2023-06-12 10:43:10,348   INFO  FPS:1.6886475098755604\n",
      "2023-06-12 10:43:11,032   INFO  FPS:1.4615865813742197\n"
     ]
    },
    {
     "name": "stdout",
     "output_type": "stream",
     "text": [
      "[Open3D WARNING] invalid color in PaintUniformColor, clipping to [0, 1]\n"
     ]
    },
    {
     "name": "stderr",
     "output_type": "stream",
     "text": [
      "2023-06-12 10:43:11,674   INFO  FPS:1.5606805878558916\n",
      "2023-06-12 10:43:12,272   INFO  FPS:1.6731509633202042\n",
      "2023-06-12 10:43:12,847   INFO  FPS:1.740229351839947\n",
      "2023-06-12 10:43:13,423   INFO  FPS:1.7392232939743768\n",
      "2023-06-12 10:43:14,006   INFO  FPS:1.7175534824428527\n",
      "2023-06-12 10:43:14,598   INFO  FPS:1.6891754928893468\n",
      "2023-06-12 10:43:15,191   INFO  FPS:1.6902544491705365\n",
      "2023-06-12 10:43:15,839   INFO  FPS:1.543241312795983\n",
      "2023-06-12 10:43:16,393   INFO  FPS:1.8078125342768812\n",
      "2023-06-12 10:43:16,989   INFO  FPS:1.6793815440146596\n",
      "2023-06-12 10:43:17,540   INFO  FPS:1.818446650077503\n",
      "2023-06-12 10:43:18,138   INFO  FPS:1.674769761053037\n"
     ]
    },
    {
     "name": "stdout",
     "output_type": "stream",
     "text": [
      "[Open3D WARNING] invalid color in PaintUniformColor, clipping to [0, 1]\n"
     ]
    },
    {
     "name": "stderr",
     "output_type": "stream",
     "text": [
      "2023-06-12 10:43:18,672   INFO  FPS:1.872252119186107\n",
      "2023-06-12 10:43:19,272   INFO  FPS:1.6695274020144804\n",
      "2023-06-12 10:43:19,790   INFO  FPS:1.9352537629864788\n",
      "2023-06-12 10:43:20,407   INFO  FPS:1.6233998145717068\n",
      "2023-06-12 10:43:20,958   INFO  FPS:1.8187228056630602\n"
     ]
    },
    {
     "name": "stdout",
     "output_type": "stream",
     "text": [
      "[Open3D WARNING] invalid color in PaintUniformColor, clipping to [0, 1]\n"
     ]
    },
    {
     "name": "stderr",
     "output_type": "stream",
     "text": [
      "2023-06-12 10:43:21,524   INFO  FPS:1.7656872929205985\n",
      "2023-06-12 10:43:22,098   INFO  FPS:1.7445753301618618\n",
      "2023-06-12 10:43:22,689   INFO  FPS:1.6908457611830208\n",
      "2023-06-12 10:43:23,261   INFO  FPS:1.7545592661608778\n",
      "2023-06-12 10:43:23,874   INFO  FPS:1.6300715601892015\n"
     ]
    }
   ],
   "source": [
    "vis = o3d.visualization.Visualizer()\n",
    "vis.create_window()\n",
    "\n",
    "# scene_point_cloud = o3d.geometry.PointCloud()\n",
    "# scene_point_cloud.points = o3d.utility.Vector3dVector(np.random.randn(1000, 3))\n",
    "# vis.add_geometry(scene_point_cloud)\n",
    "\n",
    "\n",
    "def callback(points):\n",
    "    # scene_point_cloud.points = o3d.utility.Vector3dVector(np.random.randn(1000, 3))\n",
    "    \n",
    "    pre_time = time.perf_counter()\n",
    "    data_dict = process_data.point_cloud_input(points)\n",
    "    if data_dict['points'].shape[0] > 0 :\n",
    "        # scene_point_cloud.points = o3d.utility.Vector3dVector(data_dict[\"points\"][:,:3])\n",
    "        data_dict = process_data.collate_batch([data_dict])\n",
    "        load_data_to_gpu(data_dict)\n",
    "\n",
    "        pred_dicts, _ = model.forward(data_dict)\n",
    "\n",
    "        draw_scenes(vis,\n",
    "                points=data_dict['points'][:, 1:], ref_boxes=pred_dicts[0]['pred_boxes'].detach(),\n",
    "                ref_scores=pred_dicts[0]['pred_scores'].detach(), ref_labels=pred_dicts[0]['pred_labels'].detach(), confidence=0.5\n",
    "            )\n",
    "        \n",
    "        # draw_scenes(vis,\n",
    "        #         points=data_dict['points'][:, 1:], ref_boxes=None,\n",
    "        #         ref_scores=None, ref_labels=None, confidence=0.7\n",
    "        #     )\n",
    "\n",
    "\n",
    "        vis.poll_events()\n",
    "        vis.update_renderer()\n",
    "        vis.clear_geometries()\n",
    "        \n",
    "        \n",
    "client_b.debug_luanch_test(callback)"
   ]
  },
  {
   "cell_type": "code",
   "execution_count": null,
   "metadata": {},
   "outputs": [],
   "source": [
    "client_b.disconnect_client()\n"
   ]
  },
  {
   "cell_type": "code",
   "execution_count": null,
   "metadata": {},
   "outputs": [],
   "source": [
    "server_a.close_server()"
   ]
  }
 ],
 "metadata": {
  "kernelspec": {
   "display_name": "env_beampy_base",
   "language": "python",
   "name": "python3"
  },
  "language_info": {
   "codemirror_mode": {
    "name": "ipython",
    "version": 3
   },
   "file_extension": ".py",
   "mimetype": "text/x-python",
   "name": "python",
   "nbconvert_exporter": "python",
   "pygments_lexer": "ipython3",
   "version": "3.10.11"
  },
  "orig_nbformat": 4
 },
 "nbformat": 4,
 "nbformat_minor": 2
}
