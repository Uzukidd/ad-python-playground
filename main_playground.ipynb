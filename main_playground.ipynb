{
 "cells": [
  {
   "attachments": {},
   "cell_type": "markdown",
   "metadata": {},
   "source": [
    "# This is the pcdet-free version of beamng 3d detection\n",
    "\n",
    "# Pcdet解耦版本的beamng 3d目标检测\n",
    "\n",
    "## Install-安装\n",
    "\n",
    "- create environment and activate it in anaconda-创建并激活anaconda环境\n",
    "\n",
    "  ```bash\n",
    "  conda env create -f ./environment.yaml\n",
    "  conda activate env_beampy_torch\n",
    "  ```\n",
    "\n",
    "- install spconv from https://github.com/traveller59/spconv 安装spconv\n",
    "\n",
    "  for example 例如:\n",
    "\n",
    "  depends on your version of cuda 注意取决于你的cuda版本\n",
    "\n",
    "  ```\n",
    "  pip install spconv-cu118\n",
    "  ```\n",
    "\n",
    "## Launch-启动\n",
    "\n",
    "Run all the code cell in order while following the instructions 按照步骤每个代码块逐个启动即可"
   ]
  },
  {
   "cell_type": "code",
   "execution_count": 1,
   "metadata": {},
   "outputs": [
    {
     "name": "stderr",
     "output_type": "stream",
     "text": [
      "2023-09-19 11:07:55,059 |INFO     |beamngpy                      |Started BeamNGpy logging.\n",
      "2023-09-19 11:07:59,188 |WARNING  |py.warnings                   |<frozen importlib._bootstrap>:241: RuntimeWarning: numpy.ndarray size changed, may indicate binary incompatibility\n",
      "\n",
      "2023-09-19 11:07:59,188 |WARNING  |py.warnings                   |<frozen importlib._bootstrap>:241: RuntimeWarning: numpy.ndarray size changed, may indicate binary incompatibility\n",
      "\n"
     ]
    },
    {
     "name": "stdout",
     "output_type": "stream",
     "text": [
      "Jupyter environment detected. Enabling Open3D WebVisualizer.\n",
      "[Open3D INFO] WebRTC GUI backend enabled.\n",
      "[Open3D INFO] WebRTCWindowSystem: HTTP handshake server disabled.\n"
     ]
    }
   ],
   "source": [
    "from beamng_control import beamng_server, beamng_client\n",
    "from utils import *\n",
    "from utils.mods.post_processing import mono_label_distance_tracker\n",
    "import open3d as o3d\n",
    "import numpy as np\n",
    "import torch\n",
    "\n",
    "import time\n",
    "from IPython.display import clear_output, display"
   ]
  },
  {
   "cell_type": "code",
   "execution_count": 2,
   "metadata": {},
   "outputs": [],
   "source": [
    "logger = create_logger()\n",
    "LAUNCH_SERVER = True\n",
    "REMOTE_IP = \"192.168.31.13\" # only for server == False"
   ]
  },
  {
   "cell_type": "code",
   "execution_count": 3,
   "metadata": {},
   "outputs": [],
   "source": [
    "if LAUNCH_SERVER:\n",
    "    server_a = beamng_server() \n",
    "client_b = beamng_client(host=\"127.0.0.1\" if LAUNCH_SERVER else REMOTE_IP, logger=logger)"
   ]
  },
  {
   "cell_type": "code",
   "execution_count": 4,
   "metadata": {},
   "outputs": [
    {
     "name": "stderr",
     "output_type": "stream",
     "text": [
      "2023-09-19 11:08:02,519 |WARNING  |py.warnings                   |d:\\anaconda3\\envs\\env_beampy_torch\\lib\\site-packages\\beamngpy\\connection\\connection.py:-1: ResourceWarning: unclosed <socket.socket fd=2432, family=AddressFamily.AF_INET, type=SocketKind.SOCK_STREAM, proto=0, laddr=('0.0.0.0', 6639)>\n",
      "\n",
      "2023-09-19 11:08:02,519 |WARNING  |py.warnings                   |d:\\anaconda3\\envs\\env_beampy_torch\\lib\\site-packages\\beamngpy\\connection\\connection.py:-1: ResourceWarning: unclosed <socket.socket fd=2432, family=AddressFamily.AF_INET, type=SocketKind.SOCK_STREAM, proto=0, laddr=('0.0.0.0', 6639)>\n",
      "\n",
      "2023-09-19 11:08:02,522 |INFO     |beamngpy.BeamNGpy             |Opening BeamNGpy instance.\n",
      "2023-09-19 11:08:02,622 |INFO     |beamngpy.BeamNGpy             |Started BeamNG.\n",
      "2023-09-19 11:08:12,623 |INFO     |beamngpy.BeamNGpy             |Connecting to BeamNG.tech at: (127.0.0.1, 64256)\n",
      "2023-09-19 11:08:12,729 |INFO     |beamngpy.BeamNGpy             |Successfully connected to BeamNG.tech.\n",
      "2023-09-19 11:08:12,730 |INFO     |beamngpy.BeamNGpy             |BeamNGpy successfully connected to BeamNG.\n"
     ]
    }
   ],
   "source": [
    "if LAUNCH_SERVER:\n",
    "    server_a.init_server()\n",
    "    server_a.launch_server()"
   ]
  },
  {
   "cell_type": "code",
   "execution_count": 5,
   "metadata": {},
   "outputs": [
    {
     "name": "stderr",
     "output_type": "stream",
     "text": [
      "2023-09-19 11:08:13,743 |INFO     |beamngpy.BeamNGpy             |Successfully connected to BeamNG.tech.\n",
      "2023-09-19 11:08:13,744 |INFO     |beamngpy.BeamNGpy             |BeamNGpy successfully connected to existing BeamNG instance.\n"
     ]
    }
   ],
   "source": [
    "client_b.init_client()\n",
    "client_b.launch_client()"
   ]
  },
  {
   "cell_type": "code",
   "execution_count": 6,
   "metadata": {},
   "outputs": [
    {
     "name": "stderr",
     "output_type": "stream",
     "text": [
      "2023-09-19 11:08:40,142 |INFO     |beamngpy.BeamNGpy             |Loaded map.\n",
      "2023-09-19 11:08:42,138 |INFO     |beamngpy.Vehicle              |Vehicle vehicleA connected to simulation.\n",
      "2023-09-19 11:08:42,138 |INFO     |beamngpy.BeamNGpy             |Attempting to connect to vehicle vehicleA\n",
      "2023-09-19 11:08:43,238 |INFO     |beamngpy.BeamNGpy             |Successfully connected to BeamNG.tech.\n",
      "2023-09-19 11:08:43,238 |INFO     |beamngpy.BeamNGpy             |Successfully connected to vehicle vehicleA.\n",
      "2023-09-19 11:08:43,242 |INFO     |beamngpy.Scenario             |Connected to scenario: tag\n",
      "2023-09-19 11:08:43,266 |INFO     |beamngpy.BeamNGpy             |Starting scenario.\n"
     ]
    }
   ],
   "source": [
    "if LAUNCH_SERVER:\n",
    "    server_a.debug_luanch_test()"
   ]
  },
  {
   "cell_type": "code",
   "execution_count": 7,
   "metadata": {},
   "outputs": [
    {
     "data": {
      "text/plain": [
       "[{'NAME': 'transform_points_to_voxels',\n",
       "  'VOXEL_SIZE': [0.16, 0.16, 4],\n",
       "  'MAX_POINTS_PER_VOXEL': 32,\n",
       "  'MAX_NUMBER_OF_VOXELS': {'train': 16000, 'test': 40000}}]"
      ]
     },
     "execution_count": 7,
     "metadata": {},
     "output_type": "execute_result"
    }
   ],
   "source": [
    "CFG_FILE = \".\\\\configs\\\\pointpillar.yaml\"\n",
    "\n",
    "cfg = cfg_from_yaml_file(CFG_FILE, cfg)\n",
    "cfg.DATA_CONFIG.DATA_PROCESSOR"
   ]
  },
  {
   "cell_type": "code",
   "execution_count": 8,
   "metadata": {},
   "outputs": [
    {
     "name": "stderr",
     "output_type": "stream",
     "text": [
      "2023-09-19 11:08:43,617 |INFO     |beamngpy.BeamNGpy             |Attempting to connect to vehicle vehicleA\n"
     ]
    },
    {
     "name": "stdout",
     "output_type": "stream",
     "text": [
      "tag\n",
      "{'vehicleA': <beamngpy.vehicle.vehicle.Vehicle object at 0x000001FF1D4071F0>}\n"
     ]
    },
    {
     "name": "stderr",
     "output_type": "stream",
     "text": [
      "2023-09-19 11:08:45,340 |INFO     |beamngpy.BeamNGpy             |Successfully connected to BeamNG.tech.\n",
      "2023-09-19 11:08:45,341 |INFO     |beamngpy.BeamNGpy             |Successfully connected to vehicle vehicleA.\n",
      "2023-09-19 11:08:45,406 |INFO     |beamngpy.Lidar                |Opened lidar: \"lidar\"\n"
     ]
    },
    {
     "data": {
      "text/plain": [
       "RecursiveScriptModule(\n",
       "  original_name=PointPillar\n",
       "  (vfe): RecursiveScriptModule(\n",
       "    original_name=PillarVFE\n",
       "    (pfn_layers): RecursiveScriptModule(\n",
       "      original_name=ModuleList\n",
       "      (0): RecursiveScriptModule(\n",
       "        original_name=PFNLayer\n",
       "        (linear): RecursiveScriptModule(original_name=Linear)\n",
       "        (norm): RecursiveScriptModule(original_name=BatchNorm1d)\n",
       "      )\n",
       "    )\n",
       "  )\n",
       "  (map_to_bev_module): RecursiveScriptModule(original_name=PointPillarScatter)\n",
       "  (backbone_2d): RecursiveScriptModule(\n",
       "    original_name=BaseBEVBackbone\n",
       "    (blocks): RecursiveScriptModule(\n",
       "      original_name=ModuleList\n",
       "      (0): RecursiveScriptModule(\n",
       "        original_name=Sequential\n",
       "        (0): RecursiveScriptModule(original_name=ZeroPad2d)\n",
       "        (1): RecursiveScriptModule(original_name=Conv2d)\n",
       "        (2): RecursiveScriptModule(original_name=BatchNorm2d)\n",
       "        (3): RecursiveScriptModule(original_name=ReLU)\n",
       "        (4): RecursiveScriptModule(original_name=Conv2d)\n",
       "        (5): RecursiveScriptModule(original_name=BatchNorm2d)\n",
       "        (6): RecursiveScriptModule(original_name=ReLU)\n",
       "        (7): RecursiveScriptModule(original_name=Conv2d)\n",
       "        (8): RecursiveScriptModule(original_name=BatchNorm2d)\n",
       "        (9): RecursiveScriptModule(original_name=ReLU)\n",
       "        (10): RecursiveScriptModule(original_name=Conv2d)\n",
       "        (11): RecursiveScriptModule(original_name=BatchNorm2d)\n",
       "        (12): RecursiveScriptModule(original_name=ReLU)\n",
       "      )\n",
       "      (1): RecursiveScriptModule(\n",
       "        original_name=Sequential\n",
       "        (0): RecursiveScriptModule(original_name=ZeroPad2d)\n",
       "        (1): RecursiveScriptModule(original_name=Conv2d)\n",
       "        (2): RecursiveScriptModule(original_name=BatchNorm2d)\n",
       "        (3): RecursiveScriptModule(original_name=ReLU)\n",
       "        (4): RecursiveScriptModule(original_name=Conv2d)\n",
       "        (5): RecursiveScriptModule(original_name=BatchNorm2d)\n",
       "        (6): RecursiveScriptModule(original_name=ReLU)\n",
       "        (7): RecursiveScriptModule(original_name=Conv2d)\n",
       "        (8): RecursiveScriptModule(original_name=BatchNorm2d)\n",
       "        (9): RecursiveScriptModule(original_name=ReLU)\n",
       "        (10): RecursiveScriptModule(original_name=Conv2d)\n",
       "        (11): RecursiveScriptModule(original_name=BatchNorm2d)\n",
       "        (12): RecursiveScriptModule(original_name=ReLU)\n",
       "        (13): RecursiveScriptModule(original_name=Conv2d)\n",
       "        (14): RecursiveScriptModule(original_name=BatchNorm2d)\n",
       "        (15): RecursiveScriptModule(original_name=ReLU)\n",
       "        (16): RecursiveScriptModule(original_name=Conv2d)\n",
       "        (17): RecursiveScriptModule(original_name=BatchNorm2d)\n",
       "        (18): RecursiveScriptModule(original_name=ReLU)\n",
       "      )\n",
       "      (2): RecursiveScriptModule(\n",
       "        original_name=Sequential\n",
       "        (0): RecursiveScriptModule(original_name=ZeroPad2d)\n",
       "        (1): RecursiveScriptModule(original_name=Conv2d)\n",
       "        (2): RecursiveScriptModule(original_name=BatchNorm2d)\n",
       "        (3): RecursiveScriptModule(original_name=ReLU)\n",
       "        (4): RecursiveScriptModule(original_name=Conv2d)\n",
       "        (5): RecursiveScriptModule(original_name=BatchNorm2d)\n",
       "        (6): RecursiveScriptModule(original_name=ReLU)\n",
       "        (7): RecursiveScriptModule(original_name=Conv2d)\n",
       "        (8): RecursiveScriptModule(original_name=BatchNorm2d)\n",
       "        (9): RecursiveScriptModule(original_name=ReLU)\n",
       "        (10): RecursiveScriptModule(original_name=Conv2d)\n",
       "        (11): RecursiveScriptModule(original_name=BatchNorm2d)\n",
       "        (12): RecursiveScriptModule(original_name=ReLU)\n",
       "        (13): RecursiveScriptModule(original_name=Conv2d)\n",
       "        (14): RecursiveScriptModule(original_name=BatchNorm2d)\n",
       "        (15): RecursiveScriptModule(original_name=ReLU)\n",
       "        (16): RecursiveScriptModule(original_name=Conv2d)\n",
       "        (17): RecursiveScriptModule(original_name=BatchNorm2d)\n",
       "        (18): RecursiveScriptModule(original_name=ReLU)\n",
       "      )\n",
       "    )\n",
       "    (deblocks): RecursiveScriptModule(\n",
       "      original_name=ModuleList\n",
       "      (0): RecursiveScriptModule(\n",
       "        original_name=Sequential\n",
       "        (0): RecursiveScriptModule(original_name=ConvTranspose2d)\n",
       "        (1): RecursiveScriptModule(original_name=BatchNorm2d)\n",
       "        (2): RecursiveScriptModule(original_name=ReLU)\n",
       "      )\n",
       "      (1): RecursiveScriptModule(\n",
       "        original_name=Sequential\n",
       "        (0): RecursiveScriptModule(original_name=ConvTranspose2d)\n",
       "        (1): RecursiveScriptModule(original_name=BatchNorm2d)\n",
       "        (2): RecursiveScriptModule(original_name=ReLU)\n",
       "      )\n",
       "      (2): RecursiveScriptModule(\n",
       "        original_name=Sequential\n",
       "        (0): RecursiveScriptModule(original_name=ConvTranspose2d)\n",
       "        (1): RecursiveScriptModule(original_name=BatchNorm2d)\n",
       "        (2): RecursiveScriptModule(original_name=ReLU)\n",
       "      )\n",
       "    )\n",
       "  )\n",
       "  (dense_head): RecursiveScriptModule(\n",
       "    original_name=AnchorHeadSingle\n",
       "    (target_assigner): RecursiveScriptModule(original_name=AxisAlignedTargetAssigner)\n",
       "    (cls_loss_func): RecursiveScriptModule(original_name=SigmoidFocalClassificationLoss)\n",
       "    (reg_loss_func): RecursiveScriptModule(original_name=WeightedSmoothL1Loss)\n",
       "    (dir_loss_func): RecursiveScriptModule(original_name=WeightedCrossEntropyLoss)\n",
       "    (conv_cls): RecursiveScriptModule(original_name=Conv2d)\n",
       "    (conv_box): RecursiveScriptModule(original_name=Conv2d)\n",
       "    (conv_dir_cls): RecursiveScriptModule(original_name=Conv2d)\n",
       "  )\n",
       ")"
      ]
     },
     "execution_count": 8,
     "metadata": {},
     "output_type": "execute_result"
    }
   ],
   "source": [
    "client_b.debug_luanch_test(None, lidar_para={\n",
    "    \"requested_update_time\": 0.01, \n",
    "    \"is_visualised\": True,\n",
    "    \"is_using_shared_memory\": True,\n",
    "    \"vertical_resolution\": 64,\n",
    "    # \"horizontal_angle\": 90,\n",
    "    # \"dir\":(-0.3, -0.5, 0), Not work.\n",
    "})\n",
    "pcs_dataset = beamng_point_cloud_dataset(dataset_cfg = cfg.DATA_CONFIG, logger=logger, lidar=client_b.lidar_t, class_names=cfg.CLASS_NAMES)\n",
    "# model = build_network(model_cfg=cfg.MODEL, num_class=len(cfg.CLASS_NAMES), dataset=pcs_dataset)\n",
    "# model.load_params_from_file(filename=CKPT_FILE, logger=logger, to_cpu=True)\n",
    "object_tracker = mono_label_distance_tracker(track_length=10)\n",
    "model = torch.jit.load(\"./torch_scripts/point_pillar_model.pt\")\n",
    "model.cuda()\n",
    "model.eval()"
   ]
  },
  {
   "cell_type": "code",
   "execution_count": 9,
   "metadata": {},
   "outputs": [
    {
     "name": "stderr",
     "output_type": "stream",
     "text": [
      "2023-09-19 11:09:17,148   INFO  Compute time: 0.177 + 0.008 == 0.186s\n",
      "2023-09-19 11:09:17,149   INFO  Target amount: 3\n",
      "2023-09-19 11:09:17,150   INFO  Current uuid: 26\n"
     ]
    }
   ],
   "source": [
    "vis = o3d.visualization.Visualizer()\n",
    "vis.create_window()\n",
    "\n",
    "with torch.no_grad():\n",
    "    for idx, data_dict in enumerate(pcs_dataset):\n",
    "        pre_time = data_dict['pre_time']\n",
    "        before_time = time.perf_counter()\n",
    "        \n",
    "        data_dict = pcs_dataset.collate_batch([data_dict])\n",
    "        load_data_to_gpu(data_dict)\n",
    "\n",
    "        pred_dicts, _ = model.forward(data_dict)\n",
    "        \n",
    "        cls_preds = pred_dicts[\"pred_scores\"]\n",
    "        box_preds = pred_dicts[\"pred_boxes\"]\n",
    "        label_preds = pred_dicts[\"pred_labels\"]\n",
    "\n",
    "        selected, selected_scores = class_agnostic_nms(\n",
    "                            box_scores=cls_preds, box_preds=box_preds,\n",
    "                            score_thresh=0.5\n",
    "                        )\n",
    "\n",
    "        final_scores = selected_scores\n",
    "        final_labels = label_preds[selected]\n",
    "        final_boxes = box_preds[selected]\n",
    "        \n",
    "            \n",
    "        if final_boxes is not None:\n",
    "            object_tracker.updates_object(final_boxes[np.newaxis, :, :])\n",
    "\n",
    "        box = object_tracker.get_all_bounding_box()\n",
    "        tracks = object_tracker.get_all_tracks()\n",
    "\n",
    "        draw_scenes(vis,\n",
    "            points=data_dict['points'][:, 1:], ref_boxes=box,\n",
    "            ref_scores=None, ref_labels=None, confidence=None, tracks=tracks\n",
    "        )\n",
    "        \n",
    "        \n",
    "        \n",
    "        after_time = time.perf_counter()\n",
    "        \n",
    "        \n",
    "        clear_output(wait=True)\n",
    "        logger.info(f\"Compute time: {after_time - before_time:.3f} + {pre_time:.3f} == {after_time - before_time + pre_time:.3f}s\")\n",
    "        logger.info(f\"Target amount: {len(final_boxes)}\")\n",
    "        logger.info(f\"Current uuid: {object_tracker.get_last_uuid()}\")\n",
    "        \n",
    "        # tensorized_final_boxes = torch.stack(final_boxes)[:, 0:3].view(1, -1, 3)\n",
    "        # tesnorized_final_labels = torch.stack(final_labels).view(1, -1)\n",
    "\n",
    "        # draw_scenes(vis,\n",
    "        #         points=data_dict['points'][:, 1:], ref_boxes=pred_dicts['pred_boxes'].detach(),\n",
    "        #         ref_scores=pred_dicts['pred_scores'].detach(), ref_labels=pred_dicts['pred_labels'].detach(), confidence=0.5\n",
    "        #     )\n",
    "        \n",
    "        # draw_scenes(vis,\n",
    "        #         points=data_dict['points'][:, 1:], ref_boxes=None,\n",
    "        #         ref_scores=None, ref_labels=None, confidence=0.5\n",
    "        #     )\n",
    "        \n",
    "\n",
    "        vis.poll_events()\n",
    "        vis.update_renderer()\n",
    "        vis.clear_geometries()\n"
   ]
  },
  {
   "attachments": {},
   "cell_type": "markdown",
   "metadata": {},
   "source": [
    "## Open3d window is black screen-Open3d 黑屏\n",
    "\n",
    "It‘s normal that the Open3d window initializes with black screen for the view is not initialized properly.\n",
    "\n",
    "Open3d 刚打开是黑屏是正常现象，因为视角没有正常初始化。\n",
    "\n",
    "Use `ctrl+C` to copy the following json and `ctrl+v` to paste it in the Open3d window.\n",
    "\n",
    "用 `ctrl+C` 复制下面的 json 并使用`ctrl+v`粘贴到所打开的Open3d窗口中：\n",
    "\n",
    "```json\n",
    "{ \n",
    "\t\"class_name\" : \"ViewTrajectory\",\n",
    "\t\"interval\" : 29,\n",
    "\t\"is_loop\" : false, \n",
    "\t\"trajectory\" :  \n",
    "\t[\n",
    "\t\t{\n",
    "\t\t\t\"boundingbox_max\" : [ 69.118263244628906, 39.679920196533203, 16.415634155273438 ],\n",
    "\t\t\t\"boundingbox_min\" : [ -0.059999999999999998, -39.679874420166016, -6.9146575927734375 ],\n",
    "\t\t\t\"field_of_view\" : 60.0,\n",
    "\t\t\t\"front\" : [ -0.90307097537632919, 0.0017988087570628851, 0.42948757574567964 ],\n",
    "\t\t\t\"lookat\" : [ 34.529131622314452, 2.288818359375e-05, 4.75048828125 ],\n",
    "\t\t\t\"up\" : [ 0.42948904059539766, 0.0070563614983622357, 0.90304450154510629 ],\n",
    "\t\t\t\"zoom\" : 0.69999999999999996\n",
    "\t\t}\n",
    "\t],\n",
    "\t\"version_major\" : 1,\n",
    "\t\"version_minor\" : 0\n",
    "}\n",
    "```\n",
    "\n"
   ]
  },
  {
   "attachments": {},
   "cell_type": "markdown",
   "metadata": {},
   "source": [
    "(161070, 4)\n",
    "(79241, 4)"
   ]
  },
  {
   "cell_type": "code",
   "execution_count": null,
   "metadata": {},
   "outputs": [],
   "source": [
    "client_b.disconnect_client()\n"
   ]
  },
  {
   "cell_type": "code",
   "execution_count": null,
   "metadata": {},
   "outputs": [
    {
     "name": "stderr",
     "output_type": "stream",
     "text": [
      "2023-08-23 15:20:43,846 |INFO     |beamngpy.BeamNGpy             |Closing BeamNGpy instance.\n",
      "2023-08-23 15:20:43,846 |INFO     |beamngpy.Vehicle              |Disconnected from vehicle vehicleA and detached sensors.\n",
      "2023-08-23 15:20:43,847 |INFO     |beamngpy.BeamNGpy             |Terminating BeamNG.tech process.\n",
      "2023-08-23 15:20:44,115 |WARNING  |py.warnings                   |d:\\anaconda3\\envs\\env_beampy_torch\\lib\\subprocess.py:1067: ResourceWarning: subprocess 24252 is still running\n",
      "  _warn(\"subprocess %s is still running\" % self.pid,\n",
      "\n",
      "2023-08-23 15:20:44,115 |WARNING  |py.warnings                   |d:\\anaconda3\\envs\\env_beampy_torch\\lib\\subprocess.py:1067: ResourceWarning: subprocess 24252 is still running\n",
      "  _warn(\"subprocess %s is still running\" % self.pid,\n",
      "\n",
      "2023-08-23 15:20:44,118 |WARNING  |py.warnings                   |d:\\anaconda3\\envs\\env_beampy_torch\\lib\\site-packages\\beamngpy\\beamng\\beamng.py:283: ResourceWarning: unclosed file <_io.BufferedWriter name=3>\n",
      "  self.process = None\n",
      "\n",
      "2023-08-23 15:20:44,118 |WARNING  |py.warnings                   |d:\\anaconda3\\envs\\env_beampy_torch\\lib\\site-packages\\beamngpy\\beamng\\beamng.py:283: ResourceWarning: unclosed file <_io.BufferedWriter name=3>\n",
      "  self.process = None\n",
      "\n"
     ]
    }
   ],
   "source": [
    "server_a.close_server()"
   ]
  }
 ],
 "metadata": {
  "kernelspec": {
   "display_name": "env_beampy_base",
   "language": "python",
   "name": "python3"
  },
  "language_info": {
   "codemirror_mode": {
    "name": "ipython",
    "version": 3
   },
   "file_extension": ".py",
   "mimetype": "text/x-python",
   "name": "python",
   "nbconvert_exporter": "python",
   "pygments_lexer": "ipython3",
   "version": "3.10.0"
  },
  "orig_nbformat": 4
 },
 "nbformat": 4,
 "nbformat_minor": 2
}
