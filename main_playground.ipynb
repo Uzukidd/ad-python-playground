{
 "cells": [
  {
   "cell_type": "code",
   "execution_count": 1,
   "metadata": {},
   "outputs": [
    {
     "name": "stderr",
     "output_type": "stream",
     "text": [
      "2023-06-20 11:17:43,893 |INFO     |beamngpy                      |Started BeamNGpy logging.\n"
     ]
    },
    {
     "name": "stdout",
     "output_type": "stream",
     "text": [
      "Jupyter environment detected. Enabling Open3D WebVisualizer.\n",
      "[Open3D INFO] WebRTC GUI backend enabled.\n",
      "[Open3D INFO] WebRTCWindowSystem: HTTP handshake server disabled.\n"
     ]
    }
   ],
   "source": [
    "from pcdet.config import cfg, cfg_from_yaml_file\n",
    "from pcdet.models import build_network, load_data_to_gpu\n",
    "from beamng_control import beamng_server, beamng_client\n",
    "from pcdet_tools import beamng_point_cloud_dataset, draw_scenes\n",
    "from pcdet.utils import common_utils\n",
    "import open3d as o3d\n",
    "import numpy as np\n",
    "import torch\n",
    "\n",
    "import time"
   ]
  },
  {
   "cell_type": "code",
   "execution_count": 2,
   "metadata": {},
   "outputs": [],
   "source": [
    "logger = common_utils.create_logger()"
   ]
  },
  {
   "cell_type": "code",
   "execution_count": 3,
   "metadata": {},
   "outputs": [],
   "source": [
    "server_a = beamng_server()\n",
    "client_b = beamng_client(logger=logger)"
   ]
  },
  {
   "cell_type": "code",
   "execution_count": 4,
   "metadata": {},
   "outputs": [
    {
     "name": "stderr",
     "output_type": "stream",
     "text": [
      "2023-06-20 11:17:46,343 |WARNING  |py.warnings                   |d:\\anaconda3\\envs\\env_openpcdet_beamngpy\\lib\\site-packages\\beamngpy\\connection\\connection.py:-1: ResourceWarning: unclosed <socket.socket fd=5644, family=AddressFamily.AF_INET, type=SocketKind.SOCK_STREAM, proto=0, laddr=('0.0.0.0', 2419)>\n",
      "\n",
      "2023-06-20 11:17:46,343 |WARNING  |py.warnings                   |d:\\anaconda3\\envs\\env_openpcdet_beamngpy\\lib\\site-packages\\beamngpy\\connection\\connection.py:-1: ResourceWarning: unclosed <socket.socket fd=5644, family=AddressFamily.AF_INET, type=SocketKind.SOCK_STREAM, proto=0, laddr=('0.0.0.0', 2419)>\n",
      "\n",
      "2023-06-20 11:17:46,346 |INFO     |beamngpy.BeamNGpy             |Opening BeamNGpy instance.\n",
      "2023-06-20 11:17:46,454 |INFO     |beamngpy.BeamNGpy             |Started BeamNG.\n",
      "2023-06-20 11:17:56,455 |INFO     |beamngpy.BeamNGpy             |Connecting to BeamNG.tech at: (127.0.0.1, 64256)\n",
      "2023-06-20 11:17:57,112 |INFO     |beamngpy.BeamNGpy             |Successfully connected to BeamNG.tech.\n",
      "2023-06-20 11:17:57,113 |INFO     |beamngpy.BeamNGpy             |BeamNGpy successfully connected to BeamNG.\n"
     ]
    }
   ],
   "source": [
    "server_a.init_server()\n",
    "server_a.launch_server()"
   ]
  },
  {
   "cell_type": "code",
   "execution_count": 5,
   "metadata": {},
   "outputs": [
    {
     "name": "stderr",
     "output_type": "stream",
     "text": [
      "2023-06-20 11:17:58,130 |INFO     |beamngpy.BeamNGpy             |Successfully connected to BeamNG.tech.\n",
      "2023-06-20 11:17:58,132 |INFO     |beamngpy.BeamNGpy             |BeamNGpy successfully connected to existing BeamNG instance.\n"
     ]
    }
   ],
   "source": [
    "client_b.init_client()\n",
    "client_b.launch_client()"
   ]
  },
  {
   "cell_type": "code",
   "execution_count": 6,
   "metadata": {},
   "outputs": [
    {
     "name": "stderr",
     "output_type": "stream",
     "text": [
      "2023-06-20 11:18:23,689 |INFO     |beamngpy.BeamNGpy             |Loaded map.\n",
      "2023-06-20 11:18:25,799 |INFO     |beamngpy.Vehicle              |Vehicle vehicleA connected to simulation.\n",
      "2023-06-20 11:18:25,800 |INFO     |beamngpy.BeamNGpy             |Attempting to connect to vehicle vehicleA\n",
      "2023-06-20 11:18:26,902 |INFO     |beamngpy.BeamNGpy             |Successfully connected to BeamNG.tech.\n",
      "2023-06-20 11:18:26,903 |INFO     |beamngpy.BeamNGpy             |Successfully connected to vehicle vehicleA.\n",
      "2023-06-20 11:18:26,906 |INFO     |beamngpy.Scenario             |Connected to scenario: tag\n",
      "2023-06-20 11:18:26,929 |INFO     |beamngpy.BeamNGpy             |Starting scenario.\n"
     ]
    }
   ],
   "source": [
    "server_a.debug_luanch_test()"
   ]
  },
  {
   "cell_type": "code",
   "execution_count": 7,
   "metadata": {},
   "outputs": [
    {
     "name": "stderr",
     "output_type": "stream",
     "text": [
      "2023-06-20 11:18:27,162 |INFO     |beamngpy.BeamNGpy             |Attempting to connect to vehicle vehicleA\n"
     ]
    },
    {
     "name": "stdout",
     "output_type": "stream",
     "text": [
      "tag\n",
      "{'vehicleA': <beamngpy.vehicle.vehicle.Vehicle object at 0x0000028F3A26C9A0>}\n"
     ]
    },
    {
     "name": "stderr",
     "output_type": "stream",
     "text": [
      "2023-06-20 11:18:28,055 |INFO     |beamngpy.BeamNGpy             |Successfully connected to BeamNG.tech.\n",
      "2023-06-20 11:18:28,055 |INFO     |beamngpy.BeamNGpy             |Successfully connected to vehicle vehicleA.\n",
      "2023-06-20 11:18:28,089 |INFO     |beamngpy.Lidar                |Opened lidar: \"lidar\"\n",
      "2023-06-20 11:18:28,265 |WARNING  |py.warnings                   |d:\\anaconda3\\envs\\env_openpcdet_beamngpy\\lib\\site-packages\\torch\\functional.py:504: UserWarning: torch.meshgrid: in an upcoming release, it will be required to pass the indexing argument. (Triggered internally at C:\\cb\\pytorch_1000000000000\\work\\aten\\src\\ATen\\native\\TensorShape.cpp:3484.)\n",
      "  return _VF.meshgrid(tensors, **kwargs)  # type: ignore[attr-defined]\n",
      "\n",
      "2023-06-20 11:18:28,265 |WARNING  |py.warnings                   |d:\\anaconda3\\envs\\env_openpcdet_beamngpy\\lib\\site-packages\\torch\\functional.py:504: UserWarning: torch.meshgrid: in an upcoming release, it will be required to pass the indexing argument. (Triggered internally at C:\\cb\\pytorch_1000000000000\\work\\aten\\src\\ATen\\native\\TensorShape.cpp:3484.)\n",
      "  return _VF.meshgrid(tensors, **kwargs)  # type: ignore[attr-defined]\n",
      "\n",
      "2023-06-20 11:18:28,380   INFO  ==> Loading parameters from checkpoint D:\\models_zoo\\pointpillar_7728.pth to CPU\n",
      "2023-06-20 11:18:28,407   INFO  ==> Done (loaded 127/127)\n"
     ]
    },
    {
     "data": {
      "text/plain": [
       "PointPillar(\n",
       "  (vfe): PillarVFE(\n",
       "    (pfn_layers): ModuleList(\n",
       "      (0): PFNLayer(\n",
       "        (linear): Linear(in_features=10, out_features=64, bias=False)\n",
       "        (norm): BatchNorm1d(64, eps=0.001, momentum=0.01, affine=True, track_running_stats=True)\n",
       "      )\n",
       "    )\n",
       "  )\n",
       "  (backbone_3d): None\n",
       "  (map_to_bev_module): PointPillarScatter()\n",
       "  (pfe): None\n",
       "  (backbone_2d): BaseBEVBackbone(\n",
       "    (blocks): ModuleList(\n",
       "      (0): Sequential(\n",
       "        (0): ZeroPad2d((1, 1, 1, 1))\n",
       "        (1): Conv2d(64, 64, kernel_size=(3, 3), stride=(2, 2), bias=False)\n",
       "        (2): BatchNorm2d(64, eps=0.001, momentum=0.01, affine=True, track_running_stats=True)\n",
       "        (3): ReLU()\n",
       "        (4): Conv2d(64, 64, kernel_size=(3, 3), stride=(1, 1), padding=(1, 1), bias=False)\n",
       "        (5): BatchNorm2d(64, eps=0.001, momentum=0.01, affine=True, track_running_stats=True)\n",
       "        (6): ReLU()\n",
       "        (7): Conv2d(64, 64, kernel_size=(3, 3), stride=(1, 1), padding=(1, 1), bias=False)\n",
       "        (8): BatchNorm2d(64, eps=0.001, momentum=0.01, affine=True, track_running_stats=True)\n",
       "        (9): ReLU()\n",
       "        (10): Conv2d(64, 64, kernel_size=(3, 3), stride=(1, 1), padding=(1, 1), bias=False)\n",
       "        (11): BatchNorm2d(64, eps=0.001, momentum=0.01, affine=True, track_running_stats=True)\n",
       "        (12): ReLU()\n",
       "      )\n",
       "      (1): Sequential(\n",
       "        (0): ZeroPad2d((1, 1, 1, 1))\n",
       "        (1): Conv2d(64, 128, kernel_size=(3, 3), stride=(2, 2), bias=False)\n",
       "        (2): BatchNorm2d(128, eps=0.001, momentum=0.01, affine=True, track_running_stats=True)\n",
       "        (3): ReLU()\n",
       "        (4): Conv2d(128, 128, kernel_size=(3, 3), stride=(1, 1), padding=(1, 1), bias=False)\n",
       "        (5): BatchNorm2d(128, eps=0.001, momentum=0.01, affine=True, track_running_stats=True)\n",
       "        (6): ReLU()\n",
       "        (7): Conv2d(128, 128, kernel_size=(3, 3), stride=(1, 1), padding=(1, 1), bias=False)\n",
       "        (8): BatchNorm2d(128, eps=0.001, momentum=0.01, affine=True, track_running_stats=True)\n",
       "        (9): ReLU()\n",
       "        (10): Conv2d(128, 128, kernel_size=(3, 3), stride=(1, 1), padding=(1, 1), bias=False)\n",
       "        (11): BatchNorm2d(128, eps=0.001, momentum=0.01, affine=True, track_running_stats=True)\n",
       "        (12): ReLU()\n",
       "        (13): Conv2d(128, 128, kernel_size=(3, 3), stride=(1, 1), padding=(1, 1), bias=False)\n",
       "        (14): BatchNorm2d(128, eps=0.001, momentum=0.01, affine=True, track_running_stats=True)\n",
       "        (15): ReLU()\n",
       "        (16): Conv2d(128, 128, kernel_size=(3, 3), stride=(1, 1), padding=(1, 1), bias=False)\n",
       "        (17): BatchNorm2d(128, eps=0.001, momentum=0.01, affine=True, track_running_stats=True)\n",
       "        (18): ReLU()\n",
       "      )\n",
       "      (2): Sequential(\n",
       "        (0): ZeroPad2d((1, 1, 1, 1))\n",
       "        (1): Conv2d(128, 256, kernel_size=(3, 3), stride=(2, 2), bias=False)\n",
       "        (2): BatchNorm2d(256, eps=0.001, momentum=0.01, affine=True, track_running_stats=True)\n",
       "        (3): ReLU()\n",
       "        (4): Conv2d(256, 256, kernel_size=(3, 3), stride=(1, 1), padding=(1, 1), bias=False)\n",
       "        (5): BatchNorm2d(256, eps=0.001, momentum=0.01, affine=True, track_running_stats=True)\n",
       "        (6): ReLU()\n",
       "        (7): Conv2d(256, 256, kernel_size=(3, 3), stride=(1, 1), padding=(1, 1), bias=False)\n",
       "        (8): BatchNorm2d(256, eps=0.001, momentum=0.01, affine=True, track_running_stats=True)\n",
       "        (9): ReLU()\n",
       "        (10): Conv2d(256, 256, kernel_size=(3, 3), stride=(1, 1), padding=(1, 1), bias=False)\n",
       "        (11): BatchNorm2d(256, eps=0.001, momentum=0.01, affine=True, track_running_stats=True)\n",
       "        (12): ReLU()\n",
       "        (13): Conv2d(256, 256, kernel_size=(3, 3), stride=(1, 1), padding=(1, 1), bias=False)\n",
       "        (14): BatchNorm2d(256, eps=0.001, momentum=0.01, affine=True, track_running_stats=True)\n",
       "        (15): ReLU()\n",
       "        (16): Conv2d(256, 256, kernel_size=(3, 3), stride=(1, 1), padding=(1, 1), bias=False)\n",
       "        (17): BatchNorm2d(256, eps=0.001, momentum=0.01, affine=True, track_running_stats=True)\n",
       "        (18): ReLU()\n",
       "      )\n",
       "    )\n",
       "    (deblocks): ModuleList(\n",
       "      (0): Sequential(\n",
       "        (0): ConvTranspose2d(64, 128, kernel_size=(1, 1), stride=(1, 1), bias=False)\n",
       "        (1): BatchNorm2d(128, eps=0.001, momentum=0.01, affine=True, track_running_stats=True)\n",
       "        (2): ReLU()\n",
       "      )\n",
       "      (1): Sequential(\n",
       "        (0): ConvTranspose2d(128, 128, kernel_size=(2, 2), stride=(2, 2), bias=False)\n",
       "        (1): BatchNorm2d(128, eps=0.001, momentum=0.01, affine=True, track_running_stats=True)\n",
       "        (2): ReLU()\n",
       "      )\n",
       "      (2): Sequential(\n",
       "        (0): ConvTranspose2d(256, 128, kernel_size=(4, 4), stride=(4, 4), bias=False)\n",
       "        (1): BatchNorm2d(128, eps=0.001, momentum=0.01, affine=True, track_running_stats=True)\n",
       "        (2): ReLU()\n",
       "      )\n",
       "    )\n",
       "  )\n",
       "  (dense_head): AnchorHeadSingle(\n",
       "    (cls_loss_func): SigmoidFocalClassificationLoss()\n",
       "    (reg_loss_func): WeightedSmoothL1Loss()\n",
       "    (dir_loss_func): WeightedCrossEntropyLoss()\n",
       "    (conv_cls): Conv2d(384, 18, kernel_size=(1, 1), stride=(1, 1))\n",
       "    (conv_box): Conv2d(384, 42, kernel_size=(1, 1), stride=(1, 1))\n",
       "    (conv_dir_cls): Conv2d(384, 12, kernel_size=(1, 1), stride=(1, 1))\n",
       "  )\n",
       "  (point_head): None\n",
       "  (roi_head): None\n",
       ")"
      ]
     },
     "execution_count": 7,
     "metadata": {},
     "output_type": "execute_result"
    }
   ],
   "source": [
    "CFG_FILE = \".\\\\cfgs\\\\kitti_models\\\\pointpillar.yaml\"\n",
    "CKPT_FILE = \"D:\\\\models_zoo\\\\pointpillar_7728.pth\"\n",
    "\n",
    "cfg = cfg_from_yaml_file(CFG_FILE, cfg)\n",
    "\n",
    "client_b.debug_luanch_test(None, lidar_para={\n",
    "    \"requested_update_time\": 0.01, \n",
    "    \"is_visualised\": True,\n",
    "    \"is_using_shared_memory\": True,\n",
    "    \"vertical_resolution\": 64,\n",
    "    # \"horizontal_angle\": 90,\n",
    "    # \"dir\":(-0.3, -0.5, 0), Not work.\n",
    "})\n",
    "pcs_dataset = beamng_point_cloud_dataset(dataset_cfg = cfg.DATA_CONFIG, logger=logger, lidar=client_b.lidar_t, class_names=cfg.CLASS_NAMES)\n",
    "model = build_network(model_cfg=cfg.MODEL, num_class=len(cfg.CLASS_NAMES), dataset=pcs_dataset)\n",
    "model.load_params_from_file(filename=CKPT_FILE, logger=logger, to_cpu=True)\n",
    "model.cuda()\n",
    "model.eval()"
   ]
  },
  {
   "attachments": {},
   "cell_type": "markdown",
   "metadata": {},
   "source": [
    "{\n",
    "\t\"class_name\" : \"ViewTrajectory\",\n",
    "\t\"interval\" : 29,\n",
    "\t\"is_loop\" : false,\n",
    "\t\"trajectory\" : \n",
    "\t[\n",
    "\t\t{\n",
    "\t\t\t\"boundingbox_max\" : [ 69.118263244628906, 39.679920196533203, 16.415634155273438 ],\n",
    "\t\t\t\"boundingbox_min\" : [ -0.059999999999999998, -39.679874420166016, -6.9146575927734375 ],\n",
    "\t\t\t\"field_of_view\" : 60.0,\n",
    "\t\t\t\"front\" : [ -0.90307097537632919, 0.0017988087570628851, 0.42948757574567964 ],\n",
    "\t\t\t\"lookat\" : [ 34.529131622314452, 2.288818359375e-05, 4.75048828125 ],\n",
    "\t\t\t\"up\" : [ 0.42948904059539766, 0.0070563614983622357, 0.90304450154510629 ],\n",
    "\t\t\t\"zoom\" : 0.69999999999999996\n",
    "\t\t}\n",
    "\t],\n",
    "\t\"version_major\" : 1,\n",
    "\t\"version_minor\" : 0\n",
    "}"
   ]
  },
  {
   "cell_type": "code",
   "execution_count": 8,
   "metadata": {},
   "outputs": [
    {
     "name": "stdout",
     "output_type": "stream",
     "text": [
      "(161054, 4)\n",
      "(79273, 4)\n",
      "(161054, 4)\n",
      "(79299, 4)\n",
      "(161066, 4)\n",
      "(79301, 4)\n",
      "(161066, 4)\n",
      "(79242, 4)\n",
      "(161066, 4)\n",
      "(79233, 4)\n",
      "(161066, 4)\n",
      "(79227, 4)\n",
      "(161066, 4)\n",
      "(79236, 4)\n",
      "(161068, 4)\n",
      "(79238, 4)\n",
      "(161068, 4)\n",
      "(79232, 4)\n",
      "(161068, 4)\n",
      "(79226, 4)\n",
      "(161068, 4)\n",
      "(79227, 4)\n",
      "(161068, 4)\n",
      "(79226, 4)\n",
      "(161068, 4)\n",
      "(79240, 4)\n",
      "(161070, 4)\n",
      "(79243, 4)\n",
      "(161070, 4)\n",
      "(79236, 4)\n"
     ]
    },
    {
     "name": "stdout",
     "output_type": "stream",
     "text": [
      "(161070, 4)\n",
      "(79234, 4)\n",
      "(161070, 4)\n",
      "(79242, 4)\n",
      "(161070, 4)\n",
      "(79241, 4)\n"
     ]
    }
   ],
   "source": [
    "vis = o3d.visualization.Visualizer()\n",
    "vis.create_window()\n",
    "\n",
    "with torch.no_grad():\n",
    "    for idx, data_dict in enumerate(pcs_dataset):\n",
    "        # print(data_dict['points'].shape)\n",
    "        data_dict = pcs_dataset.collate_batch([data_dict])\n",
    "        load_data_to_gpu(data_dict)\n",
    "\n",
    "        pred_dicts, _ = model.forward(data_dict)\n",
    "\n",
    "        draw_scenes(vis,\n",
    "                points=data_dict['points'][:, 1:], ref_boxes=pred_dicts[0]['pred_boxes'].detach(),\n",
    "                ref_scores=pred_dicts[0]['pred_scores'].detach(), ref_labels=pred_dicts[0]['pred_labels'].detach(), confidence=0.5\n",
    "            )\n",
    "        \n",
    "        # draw_scenes(vis,\n",
    "        #         points=data_dict['points'][:, 1:], ref_boxes=None,\n",
    "        #         ref_scores=None, ref_labels=None, confidence=0.5\n",
    "        #     )\n",
    "        \n",
    "\n",
    "        vis.poll_events()\n",
    "        vis.update_renderer()\n",
    "        vis.clear_geometries()"
   ]
  },
  {
   "attachments": {},
   "cell_type": "markdown",
   "metadata": {},
   "source": [
    "(161070, 4)\n",
    "(79241, 4)"
   ]
  },
  {
   "cell_type": "code",
   "execution_count": null,
   "metadata": {},
   "outputs": [],
   "source": [
    "client_b.disconnect_client()\n"
   ]
  },
  {
   "cell_type": "code",
   "execution_count": null,
   "metadata": {},
   "outputs": [],
   "source": [
    "server_a.close_server()"
   ]
  }
 ],
 "metadata": {
  "kernelspec": {
   "display_name": "env_beampy_base",
   "language": "python",
   "name": "python3"
  },
  "language_info": {
   "codemirror_mode": {
    "name": "ipython",
    "version": 3
   },
   "file_extension": ".py",
   "mimetype": "text/x-python",
   "name": "python",
   "nbconvert_exporter": "python",
   "pygments_lexer": "ipython3",
   "version": "3.10.11"
  },
  "orig_nbformat": 4
 },
 "nbformat": 4,
 "nbformat_minor": 2
}
